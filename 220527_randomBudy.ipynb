{
 "cells": [
  {
   "cell_type": "code",
   "execution_count": 1,
   "id": "c0b3edf0",
   "metadata": {},
   "outputs": [],
   "source": [
    "data = [\"진혜주\", \"전다인\",\"조보경\",\"나한\",\"윤수빈\",\"김민희\"]"
   ]
  },
  {
   "cell_type": "code",
   "execution_count": 4,
   "id": "8167338e",
   "metadata": {},
   "outputs": [
    {
     "name": "stdout",
     "output_type": "stream",
     "text": [
      "6\n"
     ]
    }
   ],
   "source": [
    "#전체 학생 수 구하기\n",
    "print(len(data))"
   ]
  },
  {
   "cell_type": "code",
   "execution_count": 25,
   "id": "8755e469",
   "metadata": {},
   "outputs": [
    {
     "name": "stdout",
     "output_type": "stream",
     "text": [
      "첫번째 조 김민희\n"
     ]
    }
   ],
   "source": [
    "#Random \n",
    "import random\n",
    "r = random.randint(0,len(data)-1)\n",
    "print(\"첫번째 조\", data[r])"
   ]
  },
  {
   "cell_type": "code",
   "execution_count": null,
   "id": "1ac9bfd2",
   "metadata": {},
   "outputs": [],
   "source": []
  },
  {
   "cell_type": "code",
   "execution_count": null,
   "id": "59016e10",
   "metadata": {},
   "outputs": [],
   "source": []
  }
 ],
 "metadata": {
  "kernelspec": {
   "display_name": "Python 3 (ipykernel)",
   "language": "python",
   "name": "python3"
  },
  "language_info": {
   "codemirror_mode": {
    "name": "ipython",
    "version": 3
   },
   "file_extension": ".py",
   "mimetype": "text/x-python",
   "name": "python",
   "nbconvert_exporter": "python",
   "pygments_lexer": "ipython3",
   "version": "3.9.12"
  }
 },
 "nbformat": 4,
 "nbformat_minor": 5
}
