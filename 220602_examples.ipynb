{
 "cells": [
  {
   "cell_type": "code",
   "execution_count": 1,
   "id": "2eb7f82f",
   "metadata": {},
   "outputs": [
    {
     "name": "stdout",
     "output_type": "stream",
     "text": [
      "[90, 80, 70]\n"
     ]
    }
   ],
   "source": [
    "grade = [\"이한나\", 90, 80, 70]\n",
    "\n",
    "print(grade[1:4])"
   ]
  },
  {
   "cell_type": "code",
   "execution_count": 2,
   "id": "00c65f05",
   "metadata": {},
   "outputs": [
    {
     "data": {
      "text/plain": [
       "[1, 3, 5, 7, 9]"
      ]
     },
     "execution_count": 2,
     "metadata": {},
     "output_type": "execute_result"
    }
   ],
   "source": [
    "nums = [1,2,3,4,5,6,7,8,9,10]\n",
    "nums[0:9:2]"
   ]
  },
  {
   "cell_type": "code",
   "execution_count": 3,
   "id": "5e855e7f",
   "metadata": {},
   "outputs": [
    {
     "data": {
      "text/plain": [
       "[10, 9, 8, 7, 6, 5, 4, 3, 2, 1]"
      ]
     },
     "execution_count": 3,
     "metadata": {},
     "output_type": "execute_result"
    }
   ],
   "source": [
    "nums = [1, 2, 3, 4, 5, 6, 7, 8, 9, 10]\n",
    "nums[::-1]"
   ]
  },
  {
   "cell_type": "code",
   "execution_count": 7,
   "id": "3a77038f",
   "metadata": {},
   "outputs": [
    {
     "name": "stdout",
     "output_type": "stream",
     "text": [
      "[2, 4, 3, 1, 5, 9]\n"
     ]
    }
   ],
   "source": [
    "data = [2, 4, 3, 1, 5, 10, 9]\n",
    "\n",
    "data.remove(max(data))\n",
    "print(data)"
   ]
  },
  {
   "cell_type": "code",
   "execution_count": 12,
   "id": "e89b3223",
   "metadata": {},
   "outputs": [
    {
     "name": "stdout",
     "output_type": "stream",
     "text": [
      "[[1, 2, 3], 6, [4, 5], [7, 8, 9]]\n"
     ]
    }
   ],
   "source": [
    "number= [[1,2,3],[4,5],[7,8,9]]\n",
    "\n",
    "number.insert(1,6)\n",
    "print(number)"
   ]
  },
  {
   "cell_type": "code",
   "execution_count": 16,
   "id": "b5d6b883",
   "metadata": {},
   "outputs": [
    {
     "name": "stdout",
     "output_type": "stream",
     "text": [
      "[['나'], ['가', '다'], ['라', '마', '바'], ['사', '아']]\n"
     ]
    }
   ],
   "source": [
    "word = [[\"가\",\"다\"],[\"라\",\"마\",\"바\"],[\"사\",\"아\"]]\n",
    "\n",
    "word.insert(0,[\"나\"])\n",
    "print(word)"
   ]
  },
  {
   "cell_type": "code",
   "execution_count": 35,
   "id": "a89ff1c6",
   "metadata": {},
   "outputs": [
    {
     "name": "stdout",
     "output_type": "stream",
     "text": [
      "한나 100점\n",
      "두나 70점\n",
      "세나 90점\n"
     ]
    }
   ],
   "source": [
    "name =[\"한나\",\"두나\",\"세나\"]\n",
    "score = [ 100, 70, 90]\n",
    "\n",
    "for x in range(3):\n",
    "    print(name[x], str(score[x])+\"점\")"
   ]
  },
  {
   "cell_type": "code",
   "execution_count": 52,
   "id": "2318f967",
   "metadata": {},
   "outputs": [
    {
     "name": "stdout",
     "output_type": "stream",
     "text": [
      "한나 100점\n",
      "두나 70점\n",
      "세나 90점\n"
     ]
    }
   ],
   "source": [
    "data = [[\"한나\",\"두나\",\"세나\"],[100, 70, 90]]\n",
    "\n",
    "for x in range(len(data)+1):\n",
    "    print(data[0][x], str(data[1][x])+\"점\")"
   ]
  },
  {
   "cell_type": "code",
   "execution_count": 63,
   "id": "d91f3286",
   "metadata": {},
   "outputs": [
    {
     "ename": "SyntaxError",
     "evalue": "invalid syntax (150591379.py, line 3)",
     "output_type": "error",
     "traceback": [
      "\u001b[0;36m  Input \u001b[0;32mIn [63]\u001b[0;36m\u001b[0m\n\u001b[0;31m    for x in range(len(student))\u001b[0m\n\u001b[0m                                ^\u001b[0m\n\u001b[0;31mSyntaxError\u001b[0m\u001b[0;31m:\u001b[0m invalid syntax\n"
     ]
    }
   ],
   "source": [
    "student =[[\"한나\",100],[\"두나\",80],[\"세나\",70]]\n",
    "\n",
    "for x in range(len(student))\n",
    "    final_student = str(student[x])\n",
    "    print(final_student)"
   ]
  },
  {
   "cell_type": "code",
   "execution_count": 65,
   "id": "efb47258",
   "metadata": {},
   "outputs": [
    {
     "ename": "SyntaxError",
     "evalue": "invalid syntax (200697268.py, line 4)",
     "output_type": "error",
     "traceback": [
      "\u001b[0;36m  Input \u001b[0;32mIn [65]\u001b[0;36m\u001b[0m\n\u001b[0;31m    if not \"네나\" in s\u001b[0m\n\u001b[0m                    ^\u001b[0m\n\u001b[0;31mSyntaxError\u001b[0m\u001b[0;31m:\u001b[0m invalid syntax\n"
     ]
    }
   ],
   "source": [
    "student =[[\"한나\",100],[\"두나\",80],[\"세나\",70]]\n",
    "\n",
    "for s in student:\n",
    "    if not \"네나\" in s\n",
    "        print(\"네나 없다!!\")"
   ]
  },
  {
   "cell_type": "code",
   "execution_count": null,
   "id": "7769d4c8",
   "metadata": {},
   "outputs": [],
   "source": []
  }
 ],
 "metadata": {
  "kernelspec": {
   "display_name": "Python 3 (ipykernel)",
   "language": "python",
   "name": "python3"
  },
  "language_info": {
   "codemirror_mode": {
    "name": "ipython",
    "version": 3
   },
   "file_extension": ".py",
   "mimetype": "text/x-python",
   "name": "python",
   "nbconvert_exporter": "python",
   "pygments_lexer": "ipython3",
   "version": "3.9.12"
  }
 },
 "nbformat": 4,
 "nbformat_minor": 5
}
