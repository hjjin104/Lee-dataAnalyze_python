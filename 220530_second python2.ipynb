{
 "cells": [
  {
   "cell_type": "code",
   "execution_count": null,
   "id": "16d2f1e3",
   "metadata": {},
   "outputs": [],
   "source": [
    "a = [1,2,3]\n",
    "a = [\"one\", \"two\", \"three\"]\n",
    "\n",
    "print(a)"
   ]
  },
  {
   "cell_type": "code",
   "execution_count": null,
   "id": "7846261d",
   "metadata": {},
   "outputs": [],
   "source": [
    "list1 = ['Ace', 'King', 'Queen']\n",
    "\n",
    "# list1.index('Ace')\n",
    "\n",
    "list1.count(\"Test\")"
   ]
  },
  {
   "cell_type": "code",
   "execution_count": null,
   "id": "9986733a",
   "metadata": {},
   "outputs": [],
   "source": [
    "a = [1,2,3]\n",
    "a.append(4)"
   ]
  },
  {
   "cell_type": "code",
   "execution_count": null,
   "id": "248d0ef6",
   "metadata": {},
   "outputs": [],
   "source": [
    "print(a)"
   ]
  },
  {
   "cell_type": "code",
   "execution_count": null,
   "id": "090c5c92",
   "metadata": {},
   "outputs": [],
   "source": [
    "a =[1,3]\n",
    "a.insert(1,2)"
   ]
  },
  {
   "cell_type": "code",
   "execution_count": null,
   "id": "36734188",
   "metadata": {},
   "outputs": [],
   "source": [
    "print(a)"
   ]
  },
  {
   "cell_type": "code",
   "execution_count": null,
   "id": "79f111ef",
   "metadata": {},
   "outputs": [],
   "source": [
    "a.insert(4,4)"
   ]
  },
  {
   "cell_type": "code",
   "execution_count": null,
   "id": "751f3c94",
   "metadata": {},
   "outputs": [],
   "source": [
    "print(a)"
   ]
  },
  {
   "cell_type": "code",
   "execution_count": null,
   "id": "d0577db6",
   "metadata": {},
   "outputs": [],
   "source": [
    "a = ['tea','coffee','soda','milk','juice']\n",
    "# a.pop(2)\n",
    "# a.remove(2)\n",
    "del a[-1]"
   ]
  },
  {
   "cell_type": "code",
   "execution_count": null,
   "id": "4874f2b6",
   "metadata": {},
   "outputs": [],
   "source": [
    "print(a)"
   ]
  },
  {
   "cell_type": "code",
   "execution_count": null,
   "id": "8ee4f1dc",
   "metadata": {},
   "outputs": [],
   "source": [
    "a = [1,2,3,4,5]\n",
    "res = a.pop()\n",
    "print(res)"
   ]
  },
  {
   "cell_type": "code",
   "execution_count": null,
   "id": "14c0ae07",
   "metadata": {},
   "outputs": [],
   "source": [
    "a = [1,2,3,4,5]\n",
    "res = a.remove(2)\n",
    "print(res)\n",
    "print(a)"
   ]
  },
  {
   "cell_type": "code",
   "execution_count": null,
   "id": "aa2d1b4f",
   "metadata": {},
   "outputs": [],
   "source": [
    "a = [1,2,3,4,5]\n",
    "res = del a[-1]\n",
    "print(res)"
   ]
  },
  {
   "cell_type": "code",
   "execution_count": null,
   "id": "67b91da0",
   "metadata": {},
   "outputs": [],
   "source": [
    "a = ['A', 'B', 'C', 'D']\n",
    "chk = 'B' in a\n",
    "\n",
    "if chk:\n",
    "    b = a.index('B')\n",
    "    a.pop(b)\n",
    "    print(a)"
   ]
  },
  {
   "cell_type": "markdown",
   "id": "dbc3b88d",
   "metadata": {},
   "source": [
    "##### Q1\n",
    "변수 s와 t에는 각각 문자열이 바인딩 되어있습니다.\n",
    "\n",
    ">s = \"hello\"\n",
    "\n",
    ">t = \"python\"\n",
    "\n",
    "두 변수를 이용하여 아래와 같이 출력해보세요.\n",
    "\n",
    "실행 예: hello! python"
   ]
  },
  {
   "cell_type": "code",
   "execution_count": null,
   "id": "76ee7882",
   "metadata": {},
   "outputs": [],
   "source": [
    "s = \"hello\"\n",
    "t = \"python\"\n",
    "\n",
    "print(s+\"! \"+t)"
   ]
  },
  {
   "cell_type": "code",
   "execution_count": null,
   "id": "bbb43bad",
   "metadata": {},
   "outputs": [],
   "source": [
    "print(s+\"!\",t)"
   ]
  },
  {
   "cell_type": "markdown",
   "id": "ba4e72e3",
   "metadata": {},
   "source": [
    "##### Q2\n",
    "문자열을 정수로 변환(문자열 '720'를 정수형으로 변환해보세요.)\n",
    "\n",
    ">num_str = \"720\""
   ]
  },
  {
   "cell_type": "code",
   "execution_count": null,
   "id": "5c50fb81",
   "metadata": {
    "scrolled": true
   },
   "outputs": [],
   "source": [
    "num_str = \"720\"\n",
    "a = int(num_str)\n",
    "print(a)"
   ]
  },
  {
   "cell_type": "code",
   "execution_count": null,
   "id": "222c1bc3",
   "metadata": {},
   "outputs": [],
   "source": [
    "num_str = int(\"720\")"
   ]
  },
  {
   "cell_type": "markdown",
   "id": "bd19ffca",
   "metadata": {},
   "source": [
    "##### Q3\n",
    "letters가 바인딩하는 문자열에서 첫번째와 세번째 문자를 출력하세요.\n",
    "\n",
    ">letters = 'python'\n",
    "\n",
    "실행 예\n",
    "\n",
    "p t"
   ]
  },
  {
   "cell_type": "code",
   "execution_count": null,
   "id": "bbba7dd6",
   "metadata": {},
   "outputs": [],
   "source": [
    "letters = 'python'\n",
    "print(letters[0], letters[2])"
   ]
  },
  {
   "cell_type": "code",
   "execution_count": null,
   "id": "ba5078e4",
   "metadata": {},
   "outputs": [],
   "source": [
    "a = 'python'\n",
    "print(a[0], end = \" \")\n",
    "print(a[2])\n",
    "a[:4:2]"
   ]
  },
  {
   "cell_type": "markdown",
   "id": "3ffce95d",
   "metadata": {},
   "source": [
    "##### Q4\n",
    "전화번호 뒤에 4자리만 출력하세요.\n",
    "\n",
    ">license_plate = \"01083752210\"\n",
    "\n",
    "실행 예: 2210"
   ]
  },
  {
   "cell_type": "code",
   "execution_count": null,
   "id": "566302be",
   "metadata": {},
   "outputs": [],
   "source": [
    "license_plate = \"01083752210\"\n",
    "\n",
    "last_number = license_plate[-4:]\n",
    "print(\"실행 예:\", last_number)"
   ]
  },
  {
   "cell_type": "markdown",
   "id": "220367cd",
   "metadata": {},
   "source": [
    "##### Q5\n",
    "아래의 문자열에서 '홀' 만 출력하세요.\n",
    "\n",
    ">string = \"홀짝홀짝홀짝\"\n",
    "\n",
    "실행 예:홀홀홀"
   ]
  },
  {
   "cell_type": "code",
   "execution_count": null,
   "id": "4f0e7dbb",
   "metadata": {},
   "outputs": [],
   "source": [
    "string = \"홀짝홀짝홀짝\"\n",
    "\n",
    "odd = string[::2]\n",
    "print(\"실행 예: \", odd)"
   ]
  },
  {
   "cell_type": "markdown",
   "id": "80febc87",
   "metadata": {},
   "source": [
    "##### Q6\n",
    "문자열을 거꾸로 뒤집어 출력하세요.\n",
    "\n",
    ">string = \"PYTHON\"\n",
    "\n",
    "실행 예:\n",
    "\n",
    "NOHTYP"
   ]
  },
  {
   "cell_type": "code",
   "execution_count": null,
   "id": "affb3579",
   "metadata": {},
   "outputs": [],
   "source": [
    "string = \"PYTHON\"\n",
    "a = string[::-1]\n",
    "#a = string[::-1]\n",
    "print(a)"
   ]
  },
  {
   "cell_type": "markdown",
   "id": "46a1a2b2",
   "metadata": {},
   "source": [
    "##### Q7\n",
    "아래 코드의 실행 결과를 예상해보세요.\n",
    "\n",
    "> a = \"3\"\n",
    "\n",
    "> b = \"4\"\n",
    "\n",
    "> print(a + b)\n",
    "\n",
    " "
   ]
  },
  {
   "cell_type": "code",
   "execution_count": null,
   "id": "e6f1059c",
   "metadata": {},
   "outputs": [],
   "source": [
    "a = \"3\"\n",
    "b = \"4\"\n",
    "print(a+b)"
   ]
  },
  {
   "cell_type": "markdown",
   "id": "69c2c672",
   "metadata": {},
   "source": [
    "##### Q8\n",
    "변수에 다음과 같은 문자열이 바인딩되어 있습니다.\n",
    "\n",
    "> t1 = 'python'\n",
    "\n",
    "> t2 = 'java'\n",
    "\n",
    "변수에 문자열 더하기와 문자열 곱하기를 사용해서 아래와 같이 출력해보세요.\n",
    "\n",
    "\n",
    "실행 예:\n",
    "\n",
    "python java python java python java python java"
   ]
  },
  {
   "cell_type": "code",
   "execution_count": null,
   "id": "87b1730d",
   "metadata": {},
   "outputs": [],
   "source": [
    "t1 = 'python'\n",
    "t2 = 'java'\n",
    "t3 = t1 +' '+ t2 +' '\n",
    "# t3 = (t1, t2)    => ('python', 'java', 'python', 'java', 'python', 'java', 'python', 'java')\n",
    "print(t3*4)"
   ]
  },
  {
   "cell_type": "markdown",
   "id": "cf797415",
   "metadata": {},
   "source": [
    "##### Q9\n",
    "변수에 다음과 같이 문자열과 정수가 바인딩되어 있을 때  print 함수를 사용해서 다음과 같이 출력해보세요.\n",
    "\n",
    "> name1 = \"김민수\"\n",
    "\n",
    "> age1 = 10\n",
    "\n",
    "> name2 = \"이철희\"\n",
    "\n",
    "> age2 = 13 \n",
    "\n",
    "실행 예:\n",
    "\n",
    "이름: 김민수 나이: 10\n",
    "\n",
    "이름: 이철희 나이: 13"
   ]
  },
  {
   "cell_type": "code",
   "execution_count": null,
   "id": "5d755222",
   "metadata": {},
   "outputs": [],
   "source": [
    "name1 = \"김민수\"\n",
    "age1 = 10\n",
    "name2 = \"이철희\"\n",
    "age2 = 13\n",
    "\n",
    "\n",
    "print(\"이름:\",name1, \"나이:\", str(age1))\n",
    "print(\"이름: \"+name2+ \" 나이: \" +str(age2))"
   ]
  },
  {
   "cell_type": "code",
   "execution_count": null,
   "id": "90593269",
   "metadata": {},
   "outputs": [],
   "source": [
    "grade = 50\n",
    "\n",
    "if 90<=grade:\n",
    "    print(\"A\")\n",
    "elif 80<=grade:\n",
    "    print(\"B\")\n",
    "elif 70<=grade:\n",
    "    print(\"C\")\n",
    "else:\n",
    "    print(\"No Score\")"
   ]
  },
  {
   "cell_type": "markdown",
   "id": "ce799a8c",
   "metadata": {},
   "source": [
    "### 연령대 확인 프로그램\n",
    "\n",
    "10살부터 39살까지, 10대, 20대, 30대만 가능\n",
    "\n",
    "키보드로 입력 받은 후 연령대 판단해서 안내해주기"
   ]
  },
  {
   "cell_type": "code",
   "execution_count": null,
   "id": "e2e0c532",
   "metadata": {},
   "outputs": [],
   "source": [
    "age = int(input(\"나이를 입력해주세요.(10~39세 사이만 입력 가능) \"))\n",
    "\n",
    "if 10<=age:\n",
    "    print(\"10대입니다.\")\n",
    "elif 20<=age:\n",
    "    print(\"20대입니다.\")\n",
    "elif 30<=age:\n",
    "    print(\"30대입니다.\")\n",
    "else:\n",
    "    print(\"나이를 다시 한 번 입력해주세요.\")"
   ]
  },
  {
   "cell_type": "code",
   "execution_count": null,
   "id": "4830a8cc",
   "metadata": {},
   "outputs": [],
   "source": [
    "age = int(input(\"나이를 입력해주세요.(10~39세 사이만 입력 가능) \"))\n",
    "\n",
    "print(str(age//10)+\"0대입니다.\")"
   ]
  },
  {
   "cell_type": "markdown",
   "id": "577eed01",
   "metadata": {},
   "source": [
    "### Lotto program"
   ]
  },
  {
   "cell_type": "code",
   "execution_count": 66,
   "id": "8f5164d6",
   "metadata": {
    "scrolled": true
   },
   "outputs": [
    {
     "name": "stdout",
     "output_type": "stream",
     "text": [
      "[6, 11, 8, 37, 23, 38]\n"
     ]
    }
   ],
   "source": [
    "import random\n",
    "\n",
    "lottoNum = []\n",
    "\n",
    "while True:\n",
    "    r = random.randint(1,45)\n",
    "    if not(r in lottoNum):\n",
    "#     if r not in lottoNum:\n",
    "        lottoNum.append(r)\n",
    "    if len(lottoNum) == 6:  \n",
    "        break\n",
    "        \n",
    "        \n",
    "print(lottoNum)"
   ]
  },
  {
   "cell_type": "code",
   "execution_count": 45,
   "id": "a41a17b4",
   "metadata": {},
   "outputs": [
    {
     "name": "stdout",
     "output_type": "stream",
     "text": [
      "[34, 18, 12, 9, 14, 1]\n"
     ]
    }
   ],
   "source": [
    "import random\n",
    "\n",
    "lottoNum = []\n",
    "\n",
    "while True:\n",
    "    r = random.randint(1,45)\n",
    "    lottoNum.append(r)\n",
    "    if lottoNum.count(r)>1:\n",
    "        lottoNum.remove(r)\n",
    "    if len(lottoNum)==6:  \n",
    "        break\n",
    "        \n",
    "print(lottoNum)\n",
    "        "
   ]
  },
  {
   "cell_type": "code",
   "execution_count": 27,
   "id": "0fa285af",
   "metadata": {},
   "outputs": [
    {
     "name": "stdout",
     "output_type": "stream",
     "text": [
      "[8, 20, 2, 43, 22]\n"
     ]
    }
   ],
   "source": [
    "import random\n",
    "\n",
    "lottoNum = []\n",
    "\n",
    "for x in range(6):\n",
    "    x = random.randint(1,45)\n",
    "    if x not in lottoNum:\n",
    "        lottoNum.append(x)\n",
    "    if len(lottoNum) == 6:\n",
    "        break\n",
    "    \n",
    "print(lottoNum)"
   ]
  },
  {
   "cell_type": "markdown",
   "id": "b74492ca",
   "metadata": {},
   "source": [
    "### Hanna's Code"
   ]
  },
  {
   "cell_type": "code",
   "execution_count": 26,
   "id": "6485b2e1",
   "metadata": {},
   "outputs": [
    {
     "name": "stdout",
     "output_type": "stream",
     "text": [
      "[6, 18, 21, 24, 31, 37]\n",
      "[7, 10, 11, 25, 36, 44]\n"
     ]
    }
   ],
   "source": [
    "import random\n",
    "lotto =[]\n",
    "\n",
    "#1. 코드 줄이기\n",
    "while len(lotto)!= 6:\n",
    "    r = random.randint(1,45)\n",
    "    if not (r in lotto):\n",
    "        lotto.append(r)\n",
    "        lotto.sort()\n",
    "print(lotto)\n",
    "\n",
    "#2. Set\n",
    "lotto = []\n",
    "while len(lotto)!= 6:\n",
    "    lotto.append(random.randint(1,45))\n",
    "    lotto = set(lotto)\n",
    "    lotto = list(lotto)\n",
    "    lotto.sort()\n",
    "print(lotto)"
   ]
  },
  {
   "cell_type": "markdown",
   "id": "8a760b66",
   "metadata": {},
   "source": [
    "### Function"
   ]
  },
  {
   "cell_type": "code",
   "execution_count": 28,
   "id": "e3d85d37",
   "metadata": {},
   "outputs": [],
   "source": [
    "import random\n",
    "\n",
    "def test():\n",
    "    lotto = []\n",
    "    while len(lotto)!= 6:\n",
    "        lotto.append(random.randint(1,45))\n",
    "        lotto = set(lotto)\n",
    "        lotto = list(lotto)\n",
    "        lotto.sort()\n",
    "    print(lotto)"
   ]
  },
  {
   "cell_type": "code",
   "execution_count": 29,
   "id": "f2578724",
   "metadata": {},
   "outputs": [
    {
     "name": "stdout",
     "output_type": "stream",
     "text": [
      "[6, 9, 15, 19, 20, 34]\n"
     ]
    }
   ],
   "source": [
    "test()"
   ]
  },
  {
   "cell_type": "code",
   "execution_count": 15,
   "id": "a5e82ef3",
   "metadata": {},
   "outputs": [
    {
     "name": "stdout",
     "output_type": "stream",
     "text": [
      "가위/바위/보 중에 입력 >> 가위\n",
      "Lina 보 Hanna 가위\n",
      "Hanna 승\n"
     ]
    }
   ],
   "source": [
    "import random\n",
    "a = [\"가위\", \"바위\", \"보\"]\n",
    "r = random.randint(0,2)\n",
    "lina = a[r]\n",
    "hanna = input(\"가위/바위/보 중에 입력 >> \")\n",
    "\n",
    "print(\"Lina\",lina,\"Hanna\",hanna)\n",
    "\n",
    "if (lina == '가위' and hanna == '보') or (lina == '바위' and hanna == '가위') or (lina == '보' and hanna =='바위'):\n",
    "    print(\"Lina 승\")\n",
    "\n",
    "if(lina == '가위' and hanna =='바위') or (lina=='바위' and hanna =='보') or (lina == '보' and hanna == '가위'):\n",
    "    print(\"Hanna 승\")\n",
    "    \n",
    "if lina == hanna:\n",
    "    print(\"Draw\")"
   ]
  },
  {
   "cell_type": "code",
   "execution_count": null,
   "id": "fc2f9ead",
   "metadata": {},
   "outputs": [],
   "source": []
  }
 ],
 "metadata": {
  "kernelspec": {
   "display_name": "Python 3 (ipykernel)",
   "language": "python",
   "name": "python3"
  },
  "language_info": {
   "codemirror_mode": {
    "name": "ipython",
    "version": 3
   },
   "file_extension": ".py",
   "mimetype": "text/x-python",
   "name": "python",
   "nbconvert_exporter": "python",
   "pygments_lexer": "ipython3",
   "version": "3.9.12"
  }
 },
 "nbformat": 4,
 "nbformat_minor": 5
}
