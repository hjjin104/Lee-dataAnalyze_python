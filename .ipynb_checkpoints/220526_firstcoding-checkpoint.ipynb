{
 "cells": [
  {
   "cell_type": "code",
   "execution_count": 1,
   "id": "ba1c1b4d",
   "metadata": {},
   "outputs": [
    {
     "name": "stdout",
     "output_type": "stream",
     "text": [
      "덧셈 첫 번째 숫자는?3\n"
     ]
    }
   ],
   "source": [
    "a = int(input(\"덧셈 첫 번째 숫자는?\"))"
   ]
  },
  {
   "cell_type": "code",
   "execution_count": 2,
   "id": "617cea6e",
   "metadata": {},
   "outputs": [
    {
     "name": "stdout",
     "output_type": "stream",
     "text": [
      "덧셈 두 번째 숫자는?5\n"
     ]
    }
   ],
   "source": [
    "b = int(input(\"덧셈 두 번째 숫자는?\"))"
   ]
  },
  {
   "cell_type": "code",
   "execution_count": 3,
   "id": "c39a01f4",
   "metadata": {},
   "outputs": [
    {
     "name": "stdout",
     "output_type": "stream",
     "text": [
      "두 숫자의 합은8입니다.\n"
     ]
    }
   ],
   "source": [
    "print(\"두 숫자의 합은\"+str(a+b)+\"입니다.\")"
   ]
  },
  {
   "cell_type": "code",
   "execution_count": 4,
   "id": "b26fbd28",
   "metadata": {},
   "outputs": [
    {
     "name": "stdout",
     "output_type": "stream",
     "text": [
      "피제수는?13\n"
     ]
    }
   ],
   "source": [
    "num1 = int(input(\"피제수는?\"))"
   ]
  },
  {
   "cell_type": "code",
   "execution_count": 5,
   "id": "5c823aa0",
   "metadata": {},
   "outputs": [
    {
     "name": "stdout",
     "output_type": "stream",
     "text": [
      "제수는?5\n"
     ]
    }
   ],
   "source": [
    "num2 = int(input(\"제수는?\"))"
   ]
  },
  {
   "cell_type": "code",
   "execution_count": 6,
   "id": "d40b942b",
   "metadata": {},
   "outputs": [
    {
     "name": "stdout",
     "output_type": "stream",
     "text": [
      "나눗셈의 몫은 2나머지는 3입니다.\n"
     ]
    }
   ],
   "source": [
    "print(\"나눗셈의 몫은 \"+str(num1//num2)+\"나머지는 \"+str(num1 % num2)+\"입니다.\")"
   ]
  },
  {
   "cell_type": "code",
   "execution_count": 7,
   "id": "761aba8f",
   "metadata": {},
   "outputs": [
    {
     "name": "stdout",
     "output_type": "stream",
     "text": [
      "이름을 입력하세요: 파이썬\n"
     ]
    }
   ],
   "source": [
    "name = input(\"이름을 입력하세요: \")"
   ]
  },
  {
   "cell_type": "code",
   "execution_count": 8,
   "id": "7798176b",
   "metadata": {},
   "outputs": [
    {
     "name": "stdout",
     "output_type": "stream",
     "text": [
      "키(cm)를 입력하세요: 172\n"
     ]
    }
   ],
   "source": [
    "height = int(input(\"키(cm)를 입력하세요: \"))"
   ]
  },
  {
   "cell_type": "code",
   "execution_count": 9,
   "id": "f08fe292",
   "metadata": {},
   "outputs": [
    {
     "name": "stdout",
     "output_type": "stream",
     "text": [
      "몸무게(kg)를 입력하세요: 72\n"
     ]
    }
   ],
   "source": [
    "weight = int(input(\"몸무게(kg)를 입력하세요: \"))"
   ]
  },
  {
   "cell_type": "code",
   "execution_count": 10,
   "id": "9c763925",
   "metadata": {},
   "outputs": [],
   "source": [
    "bmi = round(weight/(height/100*height/100), 2)"
   ]
  },
  {
   "cell_type": "code",
   "execution_count": 11,
   "id": "ed4554e8",
   "metadata": {},
   "outputs": [
    {
     "name": "stdout",
     "output_type": "stream",
     "text": [
      "파이썬님의 키는172이고 몸무게는 72입니다. BMI 지수는 24.34\n"
     ]
    }
   ],
   "source": [
    "print(name+\"님의 키는\"+str(height)+\"이고 몸무게는 \" +\n",
    "      str(weight) + \"입니다. BMI 지수는 \" + str(bmi))"
   ]
  },
  {
   "cell_type": "code",
   "execution_count": null,
   "id": "1e68b91d",
   "metadata": {},
   "outputs": [],
   "source": []
  }
 ],
 "metadata": {
  "kernelspec": {
   "display_name": "Python 3 (ipykernel)",
   "language": "python",
   "name": "python3"
  },
  "language_info": {
   "codemirror_mode": {
    "name": "ipython",
    "version": 3
   },
   "file_extension": ".py",
   "mimetype": "text/x-python",
   "name": "python",
   "nbconvert_exporter": "python",
   "pygments_lexer": "ipython3",
   "version": "3.9.12"
  }
 },
 "nbformat": 4,
 "nbformat_minor": 5
}
