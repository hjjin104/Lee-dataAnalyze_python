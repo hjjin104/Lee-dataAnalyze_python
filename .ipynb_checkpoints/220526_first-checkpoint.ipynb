{
 "cells": [
  {
   "cell_type": "code",
   "execution_count": 1,
   "id": "5bb25dfa",
   "metadata": {},
   "outputs": [],
   "source": [
    "a = 123"
   ]
  },
  {
   "cell_type": "code",
   "execution_count": 2,
   "id": "f11854e4",
   "metadata": {},
   "outputs": [],
   "source": [
    "a = -178"
   ]
  },
  {
   "cell_type": "code",
   "execution_count": 3,
   "id": "2726ef77",
   "metadata": {},
   "outputs": [],
   "source": [
    "a = 0"
   ]
  },
  {
   "cell_type": "code",
   "execution_count": 4,
   "id": "67535b61",
   "metadata": {},
   "outputs": [],
   "source": [
    "a = 1.2"
   ]
  },
  {
   "cell_type": "code",
   "execution_count": 5,
   "id": "7986257a",
   "metadata": {},
   "outputs": [],
   "source": [
    "a = -3.45"
   ]
  },
  {
   "cell_type": "code",
   "execution_count": 6,
   "id": "867d5c19",
   "metadata": {},
   "outputs": [
    {
     "data": {
      "text/plain": [
       "True"
      ]
     },
     "execution_count": 6,
     "metadata": {},
     "output_type": "execute_result"
    }
   ],
   "source": [
    " 5>3"
   ]
  },
  {
   "cell_type": "code",
   "execution_count": 9,
   "id": "bcf66d5f",
   "metadata": {},
   "outputs": [
    {
     "data": {
      "text/plain": [
       "True"
      ]
     },
     "execution_count": 9,
     "metadata": {},
     "output_type": "execute_result"
    }
   ],
   "source": [
    "3>=3"
   ]
  },
  {
   "cell_type": "code",
   "execution_count": 10,
   "id": "63d5e6c4",
   "metadata": {},
   "outputs": [
    {
     "data": {
      "text/plain": [
       "True"
      ]
     },
     "execution_count": 10,
     "metadata": {},
     "output_type": "execute_result"
    }
   ],
   "source": [
    "3==3"
   ]
  },
  {
   "cell_type": "code",
   "execution_count": 11,
   "id": "2b339bad",
   "metadata": {},
   "outputs": [
    {
     "data": {
      "text/plain": [
       "False"
      ]
     },
     "execution_count": 11,
     "metadata": {},
     "output_type": "execute_result"
    }
   ],
   "source": [
    "3!=3"
   ]
  },
  {
   "cell_type": "code",
   "execution_count": 12,
   "id": "570b157d",
   "metadata": {},
   "outputs": [
    {
     "ename": "SyntaxError",
     "evalue": "cannot assign to literal (692075471.py, line 1)",
     "output_type": "error",
     "traceback": [
      "\u001b[0;36m  Input \u001b[0;32mIn [12]\u001b[0;36m\u001b[0m\n\u001b[0;31m    3=3\u001b[0m\n\u001b[0m    ^\u001b[0m\n\u001b[0;31mSyntaxError\u001b[0m\u001b[0;31m:\u001b[0m cannot assign to literal\n"
     ]
    }
   ],
   "source": [
    "3=3"
   ]
  },
  {
   "cell_type": "code",
   "execution_count": 23,
   "id": "9ca0c645",
   "metadata": {},
   "outputs": [
    {
     "name": "stdout",
     "output_type": "stream",
     "text": [
      "What is your name?jy\n"
     ]
    },
    {
     "data": {
      "text/plain": [
       "'jy'"
      ]
     },
     "execution_count": 23,
     "metadata": {},
     "output_type": "execute_result"
    }
   ],
   "source": [
    "input(\"What is your name?\")"
   ]
  },
  {
   "cell_type": "code",
   "execution_count": 14,
   "id": "d5844a62",
   "metadata": {},
   "outputs": [
    {
     "name": "stdout",
     "output_type": "stream",
     "text": [
      "500원짜리 개수 -->3\n"
     ]
    }
   ],
   "source": [
    "_500won = int(input(\"500원짜리 개수 -->\"))"
   ]
  },
  {
   "cell_type": "code",
   "execution_count": 15,
   "id": "ebfc5927",
   "metadata": {},
   "outputs": [
    {
     "name": "stdout",
     "output_type": "stream",
     "text": [
      "100원짜리 개수 -->2\n"
     ]
    }
   ],
   "source": [
    "_100won = int(input(\"100원짜리 개수 -->\"))"
   ]
  },
  {
   "cell_type": "code",
   "execution_count": 16,
   "id": "c3a42279",
   "metadata": {},
   "outputs": [
    {
     "name": "stdout",
     "output_type": "stream",
     "text": [
      "50원짜리 개수 -->2\n"
     ]
    }
   ],
   "source": [
    "_50won = int(input(\"50원짜리 개수 -->\"))"
   ]
  },
  {
   "cell_type": "code",
   "execution_count": 20,
   "id": "6f0612c1",
   "metadata": {},
   "outputs": [
    {
     "name": "stdout",
     "output_type": "stream",
     "text": [
      "10원짜리 개수 -->1\n"
     ]
    }
   ],
   "source": [
    "_10won = int(input(\"10원짜리 개수 -->\"))"
   ]
  },
  {
   "cell_type": "code",
   "execution_count": 21,
   "id": "466fb660",
   "metadata": {},
   "outputs": [],
   "source": [
    "res = _500won*500+_100won*100+_50won*50+_10won*10"
   ]
  },
  {
   "cell_type": "code",
   "execution_count": 22,
   "id": "def83707",
   "metadata": {},
   "outputs": [
    {
     "name": "stdout",
     "output_type": "stream",
     "text": [
      "1760\n"
     ]
    }
   ],
   "source": [
    "print(res)"
   ]
  },
  {
   "cell_type": "code",
   "execution_count": 24,
   "id": "91ad7aff",
   "metadata": {},
   "outputs": [
    {
     "name": "stdout",
     "output_type": "stream",
     "text": [
      "덧셈 첫 번째 숫자는?3\n"
     ]
    }
   ],
   "source": [
    "a = int(input(\"덧셈 첫 번째 숫자는?\"))"
   ]
  },
  {
   "cell_type": "code",
   "execution_count": 25,
   "id": "4704d8fd",
   "metadata": {},
   "outputs": [
    {
     "name": "stdout",
     "output_type": "stream",
     "text": [
      "덧셈 두 번째 숫자는?5\n"
     ]
    }
   ],
   "source": [
    "b = int(input(\"덧셈 두 번째 숫자는?\"))"
   ]
  },
  {
   "cell_type": "code",
   "execution_count": 27,
   "id": "a17277f2",
   "metadata": {},
   "outputs": [
    {
     "name": "stdout",
     "output_type": "stream",
     "text": [
      "두 숫자의 합은8입니다.\n"
     ]
    }
   ],
   "source": [
    "print(\"두 숫자의 합은\"+str(a+b)+\"입니다.\")"
   ]
  },
  {
   "cell_type": "code",
   "execution_count": null,
   "id": "6b2d4fc5",
   "metadata": {},
   "outputs": [],
   "source": []
  }
 ],
 "metadata": {
  "kernelspec": {
   "display_name": "Python 3 (ipykernel)",
   "language": "python",
   "name": "python3"
  },
  "language_info": {
   "codemirror_mode": {
    "name": "ipython",
    "version": 3
   },
   "file_extension": ".py",
   "mimetype": "text/x-python",
   "name": "python",
   "nbconvert_exporter": "python",
   "pygments_lexer": "ipython3",
   "version": "3.9.12"
  }
 },
 "nbformat": 4,
 "nbformat_minor": 5
}
