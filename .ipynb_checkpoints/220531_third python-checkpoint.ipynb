{
 "cells": [
  {
   "cell_type": "code",
   "execution_count": null,
   "id": "d26c7dbc",
   "metadata": {},
   "outputs": [],
   "source": [
    "money = 2000\n",
    "card = True\n",
    "if (money >= 3000 or card):\n",
    "    print(\"택시를 타고 가라\")\n",
    "else:\n",
    "    print(\"걸어가라\")"
   ]
  },
  {
   "cell_type": "markdown",
   "id": "89178e54",
   "metadata": {},
   "source": [
    "## IN , NOT IN"
   ]
  },
  {
   "cell_type": "code",
   "execution_count": null,
   "id": "52077e28",
   "metadata": {},
   "outputs": [],
   "source": [
    "pocket = ['paper', 'handphone']\n",
    "card = False\n",
    "\n",
    "if 'money' in pocket:\n",
    "    print(\"택시를 타고 가라\")\n",
    "elif card:\n",
    "    print(\"택시를 타고 가라\")\n",
    "else:\n",
    "    print(\"걸어가라\")"
   ]
  },
  {
   "cell_type": "code",
   "execution_count": null,
   "id": "a6457147",
   "metadata": {},
   "outputs": [],
   "source": [
    "score = 70\n",
    "\n",
    "message = 'success' if score >= 60  else 'failure'\n",
    "print(message)"
   ]
  },
  {
   "cell_type": "markdown",
   "id": "2754812b",
   "metadata": {},
   "source": [
    "### While"
   ]
  },
  {
   "cell_type": "code",
   "execution_count": null,
   "id": "6fc85e0f",
   "metadata": {},
   "outputs": [],
   "source": [
    "treeHit  = 0\n",
    "while treeHit < 10:\n",
    "    treeHit += 1\n",
    "    print(\"나무를\", treeHit,\"번 찍었습니다.\")\n",
    "    if  treeHit == 10:\n",
    "        print(\"나무 넘어갑니다~\")"
   ]
  },
  {
   "cell_type": "code",
   "execution_count": null,
   "id": "609dfbdb",
   "metadata": {},
   "outputs": [],
   "source": [
    "treeHit = 1\n",
    "while treeHit < 11:\n",
    "    print(\"나무를\", treeHit,\"번 찍었습니다.\")\n",
    "    \n",
    "    if  treeHit == 10:\n",
    "        print(\"나무 넘어갑니다~\")\n",
    "        \n",
    "    treeHit += 1"
   ]
  },
  {
   "cell_type": "markdown",
   "id": "a5a93fd8",
   "metadata": {},
   "source": [
    "### While문 주의 사항\n",
    "초기값이 중요함!\n",
    "\n",
    "0으로 설정하냐 1로 설정하냐에 따라서 결과값이 달라짐"
   ]
  },
  {
   "cell_type": "code",
   "execution_count": null,
   "id": "aa2e508c",
   "metadata": {},
   "outputs": [],
   "source": [
    "a = 10\n",
    "b = 20\n",
    "\n",
    "print(\"han\",a,\"com\",b)\n",
    "print(f'han {a}, com{b}')\n",
    "print(\"han %d, com %d\" %(a,b))\n",
    "print(\"han {}, com {}\".format(a,b))\n",
    "print(\"han{1}, com{0}\".format(a,b))"
   ]
  },
  {
   "cell_type": "code",
   "execution_count": null,
   "id": "6f06baaf",
   "metadata": {},
   "outputs": [],
   "source": [
    "i = 1\n",
    "sum = 0\n",
    "\n",
    "while i < 100:\n",
    "    sum = sum+i\n",
    "    i = i+2\n",
    "    \n",
    "print(sum)"
   ]
  },
  {
   "cell_type": "code",
   "execution_count": null,
   "id": "c83f4fed",
   "metadata": {},
   "outputs": [],
   "source": [
    "range_ = list(range(1,10))\n",
    "\n",
    "print(range_)"
   ]
  },
  {
   "cell_type": "code",
   "execution_count": null,
   "id": "8dcd7d0c",
   "metadata": {},
   "outputs": [],
   "source": [
    "for x in range(1,10):\n",
    "    print(x, end=\" \")"
   ]
  },
  {
   "cell_type": "code",
   "execution_count": null,
   "id": "708cc254",
   "metadata": {},
   "outputs": [],
   "source": [
    "for x in range(1,10,2):\n",
    "    print(x, end=\" \")"
   ]
  },
  {
   "cell_type": "code",
   "execution_count": null,
   "id": "799aeefe",
   "metadata": {},
   "outputs": [],
   "source": [
    "for x in range(1,10,3):\n",
    "    print(x, end=\" \")"
   ]
  },
  {
   "cell_type": "code",
   "execution_count": null,
   "id": "018df9f3",
   "metadata": {},
   "outputs": [],
   "source": [
    "for x in range(1,101,2):\n",
    "    print(x, end=\" \")"
   ]
  },
  {
   "cell_type": "code",
   "execution_count": null,
   "id": "001070cc",
   "metadata": {},
   "outputs": [],
   "source": [
    "sum = 0\n",
    "for x in range(0, 101,2):\n",
    "    print(x, end=\" \")\n",
    "    sum = sum + x\n",
    "print(sum)"
   ]
  },
  {
   "cell_type": "code",
   "execution_count": null,
   "id": "8043bfc6",
   "metadata": {},
   "outputs": [],
   "source": [
    "a = range(0,10,2)\n",
    "print(sum(a))"
   ]
  },
  {
   "cell_type": "code",
   "execution_count": null,
   "id": "4867e6dd",
   "metadata": {},
   "outputs": [],
   "source": [
    "data = []\n",
    "for x in range(1,101):\n",
    "    data.append(x)\n",
    "print(data)"
   ]
  },
  {
   "cell_type": "code",
   "execution_count": null,
   "id": "93c53aec",
   "metadata": {},
   "outputs": [],
   "source": [
    "data = []\n",
    "for x in range(1,101):\n",
    "    data.append(0)\n",
    "# print(data)\n",
    "print(len(data))"
   ]
  },
  {
   "cell_type": "code",
   "execution_count": null,
   "id": "9921f850",
   "metadata": {},
   "outputs": [],
   "source": [
    "data = [ 0 for x in range(100)]\n",
    "data_ = [ x for x in range(101)]\n",
    "# print(data)\n",
    "print(data_)"
   ]
  },
  {
   "cell_type": "code",
   "execution_count": null,
   "id": "108ab7f0",
   "metadata": {},
   "outputs": [],
   "source": [
    "data = [ x for x in range(101) if x%2 == 0]\n",
    "print(data)"
   ]
  },
  {
   "cell_type": "code",
   "execution_count": null,
   "id": "2725ccd2",
   "metadata": {},
   "outputs": [],
   "source": [
    "multi = \"\"\"저는 진혜주입니다.\n",
    "나이는 28살이고\n",
    "주소는 서울입니다. 반갑습니다.\n",
    "\"\"\"\n",
    "\n",
    "a = multi.split(\"\\n\")\n",
    "\n",
    "print(a[0])"
   ]
  },
  {
   "cell_type": "code",
   "execution_count": null,
   "id": "02e81377",
   "metadata": {},
   "outputs": [],
   "source": [
    "for a in multi.split(\"\\n\"):\n",
    "    for b in a.split():\n",
    "        print(b, end = \" \")\n",
    "    print()"
   ]
  },
  {
   "cell_type": "code",
   "execution_count": null,
   "id": "0364e7b7",
   "metadata": {},
   "outputs": [],
   "source": [
    "number = -1\n",
    "name = \"hyejoo\"\n",
    "age = \"29살\"\n",
    "\n",
    "print(name[::number])\n",
    "print(age[::number])"
   ]
  },
  {
   "cell_type": "code",
   "execution_count": 11,
   "id": "19ac4ae7",
   "metadata": {},
   "outputs": [
    {
     "name": "stdout",
     "output_type": "stream",
     "text": [
      "5\n"
     ]
    }
   ],
   "source": [
    "a = \"hanna hi~~\"\n",
    "b = a.find('h')\n",
    "c = a[b+1:].find('h')\n",
    "a[:5]+\"!!\"+a[-4:]\n",
    "print(c)"
   ]
  },
  {
   "cell_type": "code",
   "execution_count": null,
   "id": "7d718cf5",
   "metadata": {},
   "outputs": [],
   "source": [
    "a.find(\"k\")"
   ]
  },
  {
   "cell_type": "code",
   "execution_count": null,
   "id": "95498158",
   "metadata": {},
   "outputs": [],
   "source": [
    "a.index(\"k\")"
   ]
  },
  {
   "cell_type": "code",
   "execution_count": 4,
   "id": "b5a0ae8d",
   "metadata": {},
   "outputs": [
    {
     "name": "stdout",
     "output_type": "stream",
     "text": [
      "1번째에 위치합니다.\n"
     ]
    }
   ],
   "source": [
    "chk = a.find('h')\n",
    "print(\"찾는 문자 없어요\" if chk == -1 else str(chk+1)+\"번째에 위치합니다.\")\n",
    "\n",
    "\n",
    "# if chk == -1:\n",
    "#     print(\"찾는 문자 없어요\")\n",
    "# else:\n",
    "#     print(str(chk+1)+\"번째\")"
   ]
  },
  {
   "cell_type": "code",
   "execution_count": 5,
   "id": "a07f7741",
   "metadata": {},
   "outputs": [
    {
     "data": {
      "text/plain": [
       "'a!b!c!d!e'"
      ]
     },
     "execution_count": 5,
     "metadata": {},
     "output_type": "execute_result"
    }
   ],
   "source": [
    "\"!\".join(\"abcde\")"
   ]
  },
  {
   "cell_type": "code",
   "execution_count": 7,
   "id": "a120e285",
   "metadata": {},
   "outputs": [
    {
     "name": "stdout",
     "output_type": "stream",
     "text": [
      "Seoul and Daegu and Daegeon the end "
     ]
    }
   ],
   "source": [
    "a = 'Seoul'\n",
    "b = 'Daegu'\n",
    "c = 'Daegeon'\n",
    "\n",
    "print(a,b,c, sep=' and ', end = ' the end ')"
   ]
  },
  {
   "cell_type": "code",
   "execution_count": 26,
   "id": "36a93b84",
   "metadata": {},
   "outputs": [
    {
     "name": "stdout",
     "output_type": "stream",
     "text": [
      "1번째에 존재\n",
      "9번째에 존재\n",
      "15번째에 존재\n",
      "20번째에 존재\n",
      "23번째에 존재\n",
      "25번째에 존재\n",
      "27번째에 존재\n"
     ]
    },
    {
     "ename": "TypeError",
     "evalue": "must be str, not int",
     "output_type": "error",
     "traceback": [
      "\u001b[0;31m---------------------------------------------------------------------------\u001b[0m",
      "\u001b[0;31mTypeError\u001b[0m                                 Traceback (most recent call last)",
      "Input \u001b[0;32mIn [26]\u001b[0m, in \u001b[0;36m<cell line: 15>\u001b[0;34m()\u001b[0m\n\u001b[1;32m     12\u001b[0m index \u001b[38;5;241m=\u001b[39m \u001b[38;5;241m-\u001b[39m\u001b[38;5;241m1\u001b[39m\n\u001b[1;32m     14\u001b[0m \u001b[38;5;28;01mwhile\u001b[39;00m \u001b[38;5;28;01mTrue\u001b[39;00m:\n\u001b[0;32m---> 15\u001b[0m     index \u001b[38;5;241m=\u001b[39m \u001b[38;5;28;43mstr\u001b[39;49m\u001b[38;5;241;43m.\u001b[39;49m\u001b[43mfind\u001b[49m\u001b[43m(\u001b[49m\u001b[43mtarget\u001b[49m\u001b[43m,\u001b[49m\u001b[43m \u001b[49m\u001b[43mindex\u001b[49m\u001b[38;5;241;43m+\u001b[39;49m\u001b[38;5;241;43m1\u001b[39;49m\u001b[43m)\u001b[49m\n\u001b[1;32m     16\u001b[0m     \u001b[38;5;28;01mif\u001b[39;00m index \u001b[38;5;241m==\u001b[39m \u001b[38;5;241m-\u001b[39m\u001b[38;5;241m1\u001b[39m:\n\u001b[1;32m     17\u001b[0m         \u001b[38;5;28;01mbreak\u001b[39;00m\n",
      "\u001b[0;31mTypeError\u001b[0m: must be str, not int"
     ]
    }
   ],
   "source": [
    "a = \"handjfajhefjjdhffiehffhfhah\"\n",
    "\n",
    "index = 1\n",
    "\n",
    "for x in a:\n",
    "    if x == 'h':\n",
    "        print(str(index)+\"번째에 존재\")\n",
    "    index += 1\n",
    "    \n",
    "    \n",
    "target = 'h'\n",
    "index = -1\n",
    "\n",
    "while True:\n",
    "    index = str.find(target, index+1)\n",
    "    if index == -1:\n",
    "        break\n",
    "    print('start=%d' % index)"
   ]
  },
  {
   "cell_type": "code",
   "execution_count": 24,
   "id": "76472463",
   "metadata": {},
   "outputs": [
    {
     "name": "stdout",
     "output_type": "stream",
     "text": [
      "10\n"
     ]
    }
   ],
   "source": [
    "sw = 1\n",
    "total = 0\n",
    "\n",
    "for n in range(1,11):\n",
    "    if sw ==1:\n",
    "        total = total + n\n",
    "    else: \n",
    "        total = total -n\n",
    "        \n",
    "    sw = -(sw)\n",
    "\n",
    "for n in range(1,11):\n",
    "    total = total + (n*sw)\n",
    "    sw= -sw\n",
    "\n",
    "print(n)"
   ]
  },
  {
   "cell_type": "code",
   "execution_count": 27,
   "id": "ccb40292",
   "metadata": {},
   "outputs": [
    {
     "name": "stdout",
     "output_type": "stream",
     "text": [
      "정수 값을 입력하시오(1회): 12\n",
      "정수 값을 입력하시오(2회): 2\n",
      "정수 값을 입력하시오(3회): 51\n",
      "51\n"
     ]
    }
   ],
   "source": [
    "a = int(input(\"정수 값을 입력하시오(1회): \"))\n",
    "b = int(input(\"정수 값을 입력하시오(2회): \"))\n",
    "c = int(input(\"정수 값을 입력하시오(3회): \"))\n",
    "\n",
    "print(max(a,b,c))\n",
    "\n"
   ]
  },
  {
   "cell_type": "code",
   "execution_count": 50,
   "id": "bb9239ff",
   "metadata": {},
   "outputs": [
    {
     "name": "stdout",
     "output_type": "stream",
     "text": [
      "정수 값을 입력하시오(1회): 1\n",
      "정수 값을 입력하시오(2회): 5\n",
      "정수 값을 입력하시오(3회): 5\n"
     ]
    }
   ],
   "source": [
    "a = int(input(\"정수 값을 입력하시오(1회): \"))\n",
    "b = int(input(\"정수 값을 입력하시오(2회): \"))\n",
    "c = int(input(\"정수 값을 입력하시오(3회): \"))\n",
    "\n",
    "if a>b and a>c: \n",
    "    print(a)\n",
    "if b>a and b>c:\n",
    "    print(b)\n",
    "if c>a and c>b:\n",
    "    print(c)\n",
    "    \n",
    "if ((a==b) and (a>c)) or ((b==c) and (b>a)) or ((c==a) and (c>b)):\n",
    "    print(\"최대값이 중복입니다.\")"
   ]
  },
  {
   "cell_type": "code",
   "execution_count": 52,
   "id": "1c55f1a7",
   "metadata": {},
   "outputs": [
    {
     "name": "stdout",
     "output_type": "stream",
     "text": [
      "8654\n",
      "456\n",
      "7\n",
      "최댓값 >>>>  8654\n"
     ]
    }
   ],
   "source": [
    "###스위치 변수!! 추가 변수, 변경하지 않아도 되는 변수~\n",
    "\n",
    "maxx = -1\n",
    "\n",
    "for x in range(3):\n",
    "    a = int(input())\n",
    "    if a > maxx:\n",
    "        maxx = a\n",
    "\n",
    "print(\"최댓값 >>>> \", maxx)"
   ]
  },
  {
   "cell_type": "markdown",
   "id": "95335229",
   "metadata": {},
   "source": []
  }
 ],
 "metadata": {
  "kernelspec": {
   "display_name": "Python 3 (ipykernel)",
   "language": "python",
   "name": "python3"
  },
  "language_info": {
   "codemirror_mode": {
    "name": "ipython",
    "version": 3
   },
   "file_extension": ".py",
   "mimetype": "text/x-python",
   "name": "python",
   "nbconvert_exporter": "python",
   "pygments_lexer": "ipython3",
   "version": "3.9.12"
  }
 },
 "nbformat": 4,
 "nbformat_minor": 5
}
