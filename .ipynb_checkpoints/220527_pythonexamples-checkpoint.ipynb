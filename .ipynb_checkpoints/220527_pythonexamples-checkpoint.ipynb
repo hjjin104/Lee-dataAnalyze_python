{
 "cells": [
  {
   "cell_type": "markdown",
   "id": "727da4a8",
   "metadata": {},
   "source": [
    "### 학점계산기"
   ]
  },
  {
   "cell_type": "code",
   "execution_count": null,
   "id": "5eab8b69",
   "metadata": {},
   "outputs": [],
   "source": [
    "AA = 4.5\n",
    "A = 4.0\n",
    "BB = 3.5\n",
    "B = 3.0\n",
    "CC = 2.5\n",
    "C = 2.0\n",
    "F = 0\n",
    "\n",
    "writing = 3\n",
    "math = 3\n",
    "English = 2\n",
    "computing = 3\n",
    "\n",
    "res = writing*A + math*C + English*BB + computing*AA\n",
    "total_Score = writing+math+English+computing\n",
    "\n",
    "avgScore = res/total_Score\n",
    "\n",
    "print(avgScore)"
   ]
  },
  {
   "cell_type": "code",
   "execution_count": null,
   "id": "8c1bfafa",
   "metadata": {},
   "outputs": [],
   "source": [
    "s ={'A+':4.5, }\n",
    "\n",
    "w=input('글쓰기')\n",
    "\n",
    "avg = 3*s[w]+3*s[m]\n"
   ]
  },
  {
   "cell_type": "markdown",
   "id": "8cdbd585",
   "metadata": {},
   "source": [
    "### 십의 자리 구하기"
   ]
  },
  {
   "cell_type": "code",
   "execution_count": null,
   "id": "2249f4ea",
   "metadata": {},
   "outputs": [],
   "source": [
    "a = input(\"하나의 숫자를 입력해주세요.\\n(단, 입력하는 숫자는 무조건 두 자리 이상의 자연수를 입력해주세요.)\")\n",
    "print(a[-2]) \n",
    "## 십의 자리 수는 항상 뒤에서 두번째 이므로 a[-2]\n",
    "## string은 항상 list type"
   ]
  },
  {
   "cell_type": "markdown",
   "id": "fc4cd97b",
   "metadata": {},
   "source": [
    "### 주민등록번호 가리기"
   ]
  },
  {
   "cell_type": "code",
   "execution_count": null,
   "id": "9056a4a2",
   "metadata": {},
   "outputs": [],
   "source": [
    "idNum = input(\"주민번호를 입력해주세요. \")\n",
    "finalIdNum = idNum[:7] + '*'*7\n",
    "print(finalIdNum)"
   ]
  },
  {
   "cell_type": "code",
   "execution_count": 1,
   "id": "1111bbb1",
   "metadata": {},
   "outputs": [
    {
     "name": "stdout",
     "output_type": "stream",
     "text": [
      "주민번호를 입력해주세요. 951004-2344556\n",
      "951004-*******\n"
     ]
    }
   ],
   "source": [
    "pin = input(\"주민번호를 입력해주세요. \")\n",
    "private_pin = pin[7:14]\n",
    "print(pin.replace(private_pin, '*'*7))"
   ]
  },
  {
   "cell_type": "markdown",
   "id": "f0434297",
   "metadata": {},
   "source": [
    "### 호텔 예약 관리하기"
   ]
  },
  {
   "cell_type": "code",
   "execution_count": null,
   "id": "3ddf5ced",
   "metadata": {},
   "outputs": [],
   "source": [
    "bookList = [103, 205, 405]\n",
    "newBooking = [107, 203, 304, 507]\n",
    "\n",
    "finalBooking = bookList+newBooking\n",
    "finalBooking.sort()\n",
    "# finalBooking = bookList.extend(newBooking)\n",
    "print(\"현재 예약된 방은 \", finalBooking, \"입니다.\")\n",
    "print()\n",
    "\n",
    "finalBooking.remove(205)\n",
    "finalBooking.remove(304)\n",
    "\n",
    "print(\"현재 예약된 방은 \", finalBooking, \"입니다.\")"
   ]
  },
  {
   "cell_type": "markdown",
   "id": "f1d73882",
   "metadata": {},
   "source": [
    "### 키순으로 줄 세우기"
   ]
  },
  {
   "cell_type": "code",
   "execution_count": null,
   "id": "2afed1e4",
   "metadata": {},
   "outputs": [],
   "source": [
    "childern = [175.3, 146, 184, 160, 167]\n",
    "childern.sort()\n",
    "print(\"키 작은 순서대로 정렬하기: \", childern)"
   ]
  }
 ],
 "metadata": {
  "kernelspec": {
   "display_name": "Python 3 (ipykernel)",
   "language": "python",
   "name": "python3"
  },
  "language_info": {
   "codemirror_mode": {
    "name": "ipython",
    "version": 3
   },
   "file_extension": ".py",
   "mimetype": "text/x-python",
   "name": "python",
   "nbconvert_exporter": "python",
   "pygments_lexer": "ipython3",
   "version": "3.9.12"
  }
 },
 "nbformat": 4,
 "nbformat_minor": 5
}
