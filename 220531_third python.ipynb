{
 "cells": [
  {
   "cell_type": "code",
   "execution_count": null,
<<<<<<< HEAD
   "id": "a2bc6e80",
=======
   "id": "916af8ea",
>>>>>>> f03759c (Jupyter file to python file)
   "metadata": {},
   "outputs": [],
   "source": [
    "money = 2000\n",
    "card = True\n",
    "if (money >= 3000 or card):\n",
    "    print(\"택시를 타고 가라\")\n",
    "else:\n",
    "    print(\"걸어가라\")"
   ]
  },
  {
   "cell_type": "markdown",
<<<<<<< HEAD
   "id": "ad4a5678",
=======
   "id": "d31f0b2f",
>>>>>>> f03759c (Jupyter file to python file)
   "metadata": {},
   "source": [
    "## IN , NOT IN"
   ]
  },
  {
   "cell_type": "code",
   "execution_count": null,
<<<<<<< HEAD
   "id": "313fc7aa",
=======
   "id": "84cfd11d",
>>>>>>> f03759c (Jupyter file to python file)
   "metadata": {},
   "outputs": [],
   "source": [
    "pocket = ['paper', 'handphone']\n",
    "card = False\n",
    "\n",
    "if 'money' in pocket:\n",
    "    print(\"택시를 타고 가라\")\n",
    "elif card:\n",
    "    print(\"택시를 타고 가라\")\n",
    "else:\n",
    "    print(\"걸어가라\")"
   ]
  },
  {
   "cell_type": "code",
   "execution_count": null,
<<<<<<< HEAD
   "id": "b934b9ea",
=======
   "id": "33ececde",
>>>>>>> f03759c (Jupyter file to python file)
   "metadata": {},
   "outputs": [],
   "source": [
    "score = 70\n",
    "\n",
    "message = 'success' if score >= 60  else 'failure'\n",
    "print(message)"
   ]
  },
  {
   "cell_type": "markdown",
<<<<<<< HEAD
   "id": "d3e5d25c",
=======
   "id": "3b6b8f77",
>>>>>>> f03759c (Jupyter file to python file)
   "metadata": {},
   "source": [
    "### While"
   ]
  },
  {
   "cell_type": "code",
   "execution_count": null,
<<<<<<< HEAD
   "id": "8c62c5e4",
=======
   "id": "b0265270",
>>>>>>> f03759c (Jupyter file to python file)
   "metadata": {},
   "outputs": [],
   "source": [
    "treeHit  = 0\n",
    "while treeHit < 10:\n",
    "    treeHit += 1\n",
    "    print(\"나무를\", treeHit,\"번 찍었습니다.\")\n",
    "    if  treeHit == 10:\n",
    "        print(\"나무 넘어갑니다~\")"
   ]
  },
  {
   "cell_type": "code",
   "execution_count": null,
<<<<<<< HEAD
   "id": "a81ed21a",
=======
   "id": "205b4590",
>>>>>>> f03759c (Jupyter file to python file)
   "metadata": {},
   "outputs": [],
   "source": [
    "treeHit = 1\n",
    "while treeHit < 11:\n",
    "    print(\"나무를\", treeHit,\"번 찍었습니다.\")\n",
    "    \n",
    "    if  treeHit == 10:\n",
    "        print(\"나무 넘어갑니다~\")\n",
    "        \n",
    "    treeHit += 1"
   ]
  },
  {
   "cell_type": "markdown",
<<<<<<< HEAD
   "id": "92cfd12b",
=======
   "id": "c7edcd50",
>>>>>>> f03759c (Jupyter file to python file)
   "metadata": {},
   "source": [
    "### While문 주의 사항\n",
    "초기값이 중요함!\n",
    "\n",
    "0으로 설정하냐 1로 설정하냐에 따라서 결과값이 달라짐"
   ]
  },
  {
   "cell_type": "code",
   "execution_count": null,
<<<<<<< HEAD
   "id": "d14beae4",
=======
   "id": "e4501bc2",
>>>>>>> f03759c (Jupyter file to python file)
   "metadata": {},
   "outputs": [],
   "source": [
    "a = 10\n",
    "b = 20\n",
    "\n",
    "print(\"han\",a,\"com\",b)\n",
    "print(f'han {a}, com{b}')\n",
    "print(\"han %d, com %d\" %(a,b))\n",
    "print(\"han {}, com {}\".format(a,b))\n",
    "print(\"han{1}, com{0}\".format(a,b))"
   ]
  },
  {
   "cell_type": "code",
   "execution_count": null,
<<<<<<< HEAD
   "id": "a8f47ff6",
=======
   "id": "30268caa",
>>>>>>> f03759c (Jupyter file to python file)
   "metadata": {},
   "outputs": [],
   "source": [
    "i = 1\n",
    "sum = 0\n",
    "\n",
    "while i < 100:\n",
    "    sum = sum+i\n",
    "    i = i+2\n",
    "    \n",
    "print(sum)"
   ]
  },
  {
   "cell_type": "code",
   "execution_count": null,
<<<<<<< HEAD
   "id": "0974a4ab",
=======
   "id": "66d28a35",
>>>>>>> f03759c (Jupyter file to python file)
   "metadata": {},
   "outputs": [],
   "source": [
    "range_ = list(range(1,10))\n",
    "\n",
    "print(range_)"
   ]
  },
  {
   "cell_type": "code",
   "execution_count": null,
<<<<<<< HEAD
   "id": "930cb2af",
=======
   "id": "42fdc49b",
>>>>>>> f03759c (Jupyter file to python file)
   "metadata": {},
   "outputs": [],
   "source": [
    "for x in range(1,10):\n",
    "    print(x, end=\" \")"
   ]
  },
  {
   "cell_type": "code",
   "execution_count": null,
<<<<<<< HEAD
   "id": "a5029c6b",
=======
   "id": "4a08c6bf",
>>>>>>> f03759c (Jupyter file to python file)
   "metadata": {},
   "outputs": [],
   "source": [
    "for x in range(1,10,2):\n",
    "    print(x, end=\" \")"
   ]
  },
  {
   "cell_type": "code",
   "execution_count": null,
<<<<<<< HEAD
   "id": "27dc7ea2",
=======
   "id": "98c9cbb4",
>>>>>>> f03759c (Jupyter file to python file)
   "metadata": {},
   "outputs": [],
   "source": [
    "for x in range(1,10,3):\n",
    "    print(x, end=\" \")"
   ]
  },
  {
   "cell_type": "code",
   "execution_count": null,
<<<<<<< HEAD
   "id": "5dd7af6b",
=======
   "id": "01edab3a",
>>>>>>> f03759c (Jupyter file to python file)
   "metadata": {},
   "outputs": [],
   "source": [
    "for x in range(1,101,2):\n",
    "    print(x, end=\" \")"
   ]
  },
  {
   "cell_type": "code",
   "execution_count": null,
<<<<<<< HEAD
   "id": "915c402e",
=======
   "id": "0fe579e3",
>>>>>>> f03759c (Jupyter file to python file)
   "metadata": {},
   "outputs": [],
   "source": [
    "sum = 0\n",
    "for x in range(0, 101,2):\n",
    "    print(x, end=\" \")\n",
    "    sum = sum + x\n",
    "print(sum)"
   ]
  },
  {
   "cell_type": "code",
   "execution_count": null,
<<<<<<< HEAD
   "id": "0ae1ebb1",
=======
   "id": "02f70c44",
>>>>>>> f03759c (Jupyter file to python file)
   "metadata": {},
   "outputs": [],
   "source": [
    "a = range(0,10,2)\n",
    "print(sum(a))"
   ]
  },
  {
   "cell_type": "code",
   "execution_count": null,
<<<<<<< HEAD
   "id": "79bc9309",
=======
   "id": "481cacd1",
>>>>>>> f03759c (Jupyter file to python file)
   "metadata": {},
   "outputs": [],
   "source": [
    "data = []\n",
    "for x in range(1,101):\n",
    "    data.append(x)\n",
    "print(data)"
   ]
  },
  {
   "cell_type": "code",
   "execution_count": null,
<<<<<<< HEAD
   "id": "3232d2cd",
=======
   "id": "cf76cb1d",
>>>>>>> f03759c (Jupyter file to python file)
   "metadata": {},
   "outputs": [],
   "source": [
    "data = []\n",
    "for x in range(1,101):\n",
    "    data.append(0)\n",
    "# print(data)\n",
    "print(len(data))"
   ]
  },
  {
   "cell_type": "code",
   "execution_count": null,
<<<<<<< HEAD
   "id": "3655d3cd",
=======
   "id": "6f676216",
>>>>>>> f03759c (Jupyter file to python file)
   "metadata": {},
   "outputs": [],
   "source": [
    "data = [ 0 for x in range(100)]\n",
    "data_ = [ x for x in range(101)]\n",
    "# print(data)\n",
    "print(data_)"
   ]
  },
  {
   "cell_type": "code",
   "execution_count": null,
<<<<<<< HEAD
   "id": "81fc6068",
=======
   "id": "d75b29b1",
>>>>>>> f03759c (Jupyter file to python file)
   "metadata": {},
   "outputs": [],
   "source": [
    "data = [ x for x in range(101) if x%2 == 0]\n",
    "print(data)"
   ]
  },
  {
   "cell_type": "code",
   "execution_count": null,
<<<<<<< HEAD
   "id": "8b32c9b0",
=======
   "id": "6b5ad3c5",
>>>>>>> f03759c (Jupyter file to python file)
   "metadata": {},
   "outputs": [],
   "source": [
    "multi = \"\"\"저는 진혜주입니다.\n",
    "나이는 28살이고\n",
    "주소는 서울입니다. 반갑습니다.\n",
    "\"\"\"\n",
    "\n",
    "a = multi.split(\"\\n\")\n",
    "\n",
    "print(a[0])"
   ]
  },
  {
   "cell_type": "code",
   "execution_count": null,
<<<<<<< HEAD
   "id": "1d8343d9",
=======
   "id": "3784a422",
>>>>>>> f03759c (Jupyter file to python file)
   "metadata": {},
   "outputs": [],
   "source": [
    "for a in multi.split(\"\\n\"):\n",
    "    for b in a.split():\n",
    "        print(b, end = \" \")\n",
    "    print()"
   ]
  },
  {
   "cell_type": "code",
   "execution_count": null,
<<<<<<< HEAD
   "id": "6c321804",
=======
   "id": "d457eb2e",
>>>>>>> f03759c (Jupyter file to python file)
   "metadata": {},
   "outputs": [],
   "source": [
    "number = -1\n",
    "name = \"hyejoo\"\n",
    "age = \"29살\"\n",
    "\n",
    "print(name[::number])\n",
    "print(age[::number])"
   ]
  },
  {
   "cell_type": "code",
   "execution_count": null,
<<<<<<< HEAD
   "id": "70f66d31",
=======
   "id": "e45c9367",
>>>>>>> f03759c (Jupyter file to python file)
   "metadata": {},
   "outputs": [],
   "source": [
    "a = \"hanna hi~~\"\n",
    "b = a.find('h')\n",
    "c = a[b+1:].find('h')\n",
    "a[:5]+\"!!\"+a[-4:]\n",
    "print(c)"
   ]
  },
  {
   "cell_type": "code",
   "execution_count": null,
<<<<<<< HEAD
   "id": "489e1eb8",
=======
   "id": "01bd823a",
>>>>>>> f03759c (Jupyter file to python file)
   "metadata": {},
   "outputs": [],
   "source": [
    "a.find(\"k\")"
   ]
  },
  {
   "cell_type": "code",
   "execution_count": null,
<<<<<<< HEAD
   "id": "90d578d2",
=======
   "id": "ca00cf4b",
>>>>>>> f03759c (Jupyter file to python file)
   "metadata": {},
   "outputs": [],
   "source": [
    "a.index(\"k\")"
   ]
  },
  {
   "cell_type": "code",
   "execution_count": null,
<<<<<<< HEAD
   "id": "15396819",
=======
   "id": "66ebebba",
>>>>>>> f03759c (Jupyter file to python file)
   "metadata": {},
   "outputs": [],
   "source": [
    "chk = a.find('h')\n",
    "print(\"찾는 문자 없어요\" if chk == -1 else str(chk+1)+\"번째에 위치합니다.\")\n",
    "\n",
    "\n",
    "# if chk == -1:\n",
    "#     print(\"찾는 문자 없어요\")\n",
    "# else:\n",
    "#     print(str(chk+1)+\"번째\")"
   ]
  },
  {
   "cell_type": "code",
   "execution_count": null,
<<<<<<< HEAD
   "id": "b292d1a1",
=======
   "id": "d477bf43",
>>>>>>> f03759c (Jupyter file to python file)
   "metadata": {},
   "outputs": [],
   "source": [
    "\"!\".join(\"abcde\")"
   ]
  },
  {
   "cell_type": "code",
   "execution_count": null,
<<<<<<< HEAD
   "id": "e970ac62",
=======
   "id": "dfbe44c1",
>>>>>>> f03759c (Jupyter file to python file)
   "metadata": {},
   "outputs": [],
   "source": [
    "a = 'Seoul'\n",
    "b = 'Daegu'\n",
    "c = 'Daegeon'\n",
    "\n",
    "print(a,b,c, sep=' and ', end = ' the end ')"
   ]
  },
  {
   "cell_type": "code",
   "execution_count": null,
<<<<<<< HEAD
   "id": "be555044",
=======
   "id": "84971419",
>>>>>>> f03759c (Jupyter file to python file)
   "metadata": {},
   "outputs": [],
   "source": [
    "a = \"handjfajhefjjdhffiehffhfhah\"\n",
    "\n",
    "index = 1\n",
    "\n",
    "for x in a:\n",
    "    if x == 'h':\n",
    "        print(str(index)+\"번째에 존재\")\n",
    "    index += 1\n",
    "    \n",
    "    \n",
    "target = 'h'\n",
    "index = -1\n",
    "\n",
    "while True:\n",
    "    index = str.find(target, index+1)\n",
    "    if index == -1:\n",
    "        break\n",
    "    print('start=%d' % index)"
   ]
  },
  {
   "cell_type": "code",
   "execution_count": null,
<<<<<<< HEAD
   "id": "bafdd94c",
=======
   "id": "33d29484",
>>>>>>> f03759c (Jupyter file to python file)
   "metadata": {},
   "outputs": [],
   "source": [
    "sw = 1\n",
    "total = 0\n",
    "\n",
    "for n in range(1,11):\n",
    "    if sw ==1:\n",
    "        total = total + n\n",
    "    else: \n",
    "        total = total -n\n",
    "        \n",
    "    sw = -(sw)\n",
    "\n",
    "for n in range(1,11):\n",
    "    total = total + (n*sw)\n",
    "    sw= -sw\n",
    "\n",
    "print(n)"
   ]
  },
  {
   "cell_type": "code",
   "execution_count": null,
<<<<<<< HEAD
   "id": "b34c2d74",
=======
   "id": "53392801",
>>>>>>> f03759c (Jupyter file to python file)
   "metadata": {},
   "outputs": [],
   "source": [
    "a = int(input(\"정수 값을 입력하시오(1회): \"))\n",
    "b = int(input(\"정수 값을 입력하시오(2회): \"))\n",
    "c = int(input(\"정수 값을 입력하시오(3회): \"))\n",
    "\n",
    "print(max(a,b,c))\n",
    "\n"
   ]
  },
  {
   "cell_type": "code",
   "execution_count": null,
<<<<<<< HEAD
   "id": "064393f7",
=======
   "id": "6bfec99e",
>>>>>>> f03759c (Jupyter file to python file)
   "metadata": {},
   "outputs": [],
   "source": [
    "a = int(input(\"정수 값을 입력하시오(1회): \"))\n",
    "b = int(input(\"정수 값을 입력하시오(2회): \"))\n",
    "c = int(input(\"정수 값을 입력하시오(3회): \"))\n",
    "\n",
    "if a>b and a>c: \n",
    "    print(a)\n",
    "if b>a and b>c:\n",
    "    print(b)\n",
    "if c>a and c>b:\n",
    "    print(c)\n",
    "    \n",
    "if ((a==b) and (a>c)) or ((b==c) and (b>a)) or ((c==a) and (c>b)):\n",
    "    print(\"최대값이 중복입니다.\")"
   ]
  },
  {
   "cell_type": "code",
   "execution_count": null,
<<<<<<< HEAD
   "id": "f9a4e281",
=======
   "id": "33f46b5c",
>>>>>>> f03759c (Jupyter file to python file)
   "metadata": {},
   "outputs": [],
   "source": [
    "###스위치 변수!! 추가 변수, 변경하지 않아도 되는 변수~\n",
    "\n",
    "maxx = -1\n",
    "\n",
    "for x in range(3):\n",
    "    a = int(input())\n",
    "    if a > maxx:\n",
    "        maxx = a\n",
    "\n",
    "print(\"최댓값 >>>> \", maxx)"
   ]
  },
  {
   "cell_type": "code",
<<<<<<< HEAD
   "execution_count": 47,
   "id": "0773ecd3",
   "metadata": {},
   "outputs": [
    {
     "name": "stdout",
     "output_type": "stream",
     "text": [
      "[[12, 1], [17, 15], [3, 19], [15, 14], [9, 2], [1, 15], [5, 7], [4, 12]]\n"
     ]
    }
   ],
=======
   "execution_count": null,
   "id": "b48c9f4c",
   "metadata": {},
   "outputs": [],
>>>>>>> f03759c (Jupyter file to python file)
   "source": [
    "import random\n",
    "\n",
    "a = []\n",
    "\n",
    "for x in range(1,20):\n",
<<<<<<< HEAD
    "    a.append(x)\n",
    "    \n",
    "\n",
    "# for x in range(8):\n",
    "#     x = random.sample(a,1)\n",
    "#     print(\"숫자 \",x,\"는(은) 뽑혔습니다.\")"
=======
    "    a.append(random.randint(1,20))\n",
    "    \n",
    "print(a)\n",
    "\n",
    "for x in a:\n",
    "    print(\"숫자\",x,\"는(은) 뽑혔습니다.\")"
>>>>>>> f03759c (Jupyter file to python file)
   ]
  },
  {
   "cell_type": "code",
   "execution_count": null,
<<<<<<< HEAD
   "id": "d8efd081",
=======
   "id": "11a4c3af",
>>>>>>> f03759c (Jupyter file to python file)
   "metadata": {},
   "outputs": [],
   "source": [
    "import random\n",
    "score = int(random.randint(0,100))\n",
    "\n",
    "if score >= 90:\n",
    "    print(\"뽑힌 점수: \" + str(score) +\"\\n장학생입니다.\")\n",
    "if score >= 60:\n",
    "    print(\"뽑힌 점수: \" + str(score) +\"\\n합격생입니다.\")\n",
    "if score < 60:\n",
    "    print(\"뽑힌 점수: \" + str(score) +\"\\n불합격입니다.\")"
   ]
  },
  {
   "cell_type": "code",
<<<<<<< HEAD
   "execution_count": null,
   "id": "13a85ca0",
   "metadata": {},
   "outputs": [],
   "source": [
    "hap = 0\n",
    "for n in range(1234, 4568):\n",
    "    while n%444 == 0:\n",
    "        hap += n\n",
=======
   "execution_count": 1,
   "id": "c390a9fc",
   "metadata": {},
   "outputs": [
    {
     "ename": "KeyboardInterrupt",
     "evalue": "",
     "output_type": "error",
     "traceback": [
      "\u001b[0;31m---------------------------------------------------------------------------\u001b[0m",
      "\u001b[0;31mKeyboardInterrupt\u001b[0m                         Traceback (most recent call last)",
      "Input \u001b[0;32mIn [1]\u001b[0m, in \u001b[0;36m<cell line: 2>\u001b[0;34m()\u001b[0m\n\u001b[1;32m      2\u001b[0m \u001b[38;5;28;01mfor\u001b[39;00m n \u001b[38;5;129;01min\u001b[39;00m \u001b[38;5;28mrange\u001b[39m(\u001b[38;5;241m1234\u001b[39m, \u001b[38;5;241m4568\u001b[39m):\n\u001b[1;32m      3\u001b[0m     \u001b[38;5;28;01mwhile\u001b[39;00m n\u001b[38;5;241m%\u001b[39m\u001b[38;5;241m444\u001b[39m \u001b[38;5;241m==\u001b[39m\u001b[38;5;241m0\u001b[39m:\n\u001b[0;32m----> 4\u001b[0m             hap \u001b[38;5;241m+\u001b[39m\u001b[38;5;241m=\u001b[39m n\n\u001b[1;32m      6\u001b[0m \u001b[38;5;28mprint\u001b[39m(hap)\n",
      "\u001b[0;31mKeyboardInterrupt\u001b[0m: "
     ]
    }
   ],
   "source": [
    "hap = 0\n",
    "for n in range(1234, 4568):\n",
    "    while n%444 ==0:\n",
    "            hap += n\n",
>>>>>>> f03759c (Jupyter file to python file)
    "\n",
    "print(hap)"
   ]
  },
  {
   "cell_type": "code",
   "execution_count": null,
<<<<<<< HEAD
   "id": "2aea28f6",
   "metadata": {},
   "outputs": [],
   "source": [
=======
   "id": "fa484e8e",
   "metadata": {
    "scrolled": true
   },
   "outputs": [],
   "source": [
    "i = 1\n",
    "total = 0\n",
    "\n",
    "while 0 < i <1001:\n",
    "    if i%3 == 0:\n",
    "        total += i\n",
    "    i += 1\n",
    "\n",
    "print(total)"
   ]
  },
  {
   "cell_type": "code",
   "execution_count": null,
   "id": "df828244",
   "metadata": {
    "scrolled": true
   },
   "outputs": [],
   "source": [
    "i = 1\n",
    "while i < 6:\n",
    "    print(i*'*')\n",
    "    i+= 1\n"
   ]
  },
  {
   "cell_type": "code",
   "execution_count": null,
   "id": "df6c245f",
   "metadata": {
    "scrolled": true
   },
   "outputs": [],
   "source": [
    "A = [70, 60, 55, 75, 95, 90, 80, 80, 85, 100]\n",
    "\n",
    "total = 0\n",
    "\n",
    "for x in A:\n",
    "    total += x\n",
    "    \n",
    "print(total/len(A))\n",
    "    "
   ]
  },
  {
   "cell_type": "code",
   "execution_count": null,
   "id": "093a161d",
   "metadata": {},
   "outputs": [],
   "source": [
    "numbers = [1,2,3,4,5]\n",
    "result = [n*2 for n in numbers if n%2 ==1]\n",
    "\n",
    "print(result)\n",
    "# for n in numbers:\n",
    "#     if n%2 == 1:\n",
    "#         result.append(n*2)"
   ]
  },
  {
   "cell_type": "code",
   "execution_count": 4,
   "id": "fc6060a7",
   "metadata": {},
   "outputs": [
    {
     "name": "stdout",
     "output_type": "stream",
     "text": [
      "[57, 58, 47, 5, 34, 44, 39, 72, 83, 36]\n",
      "475\n"
     ]
    }
   ],
   "source": [
>>>>>>> f03759c (Jupyter file to python file)
    "import random\n",
    "nn =[]\n",
    "\n",
    "for _ in range(10):\n",
    "    num = random.randrange(1,100)\n",
<<<<<<< HEAD
    "    nn.append(_)\n",
    "print(nn)\n",
    "\n",
    "hap = 0\n",
    "# for i in range(10):\n",
    "#     num = _2\n",
    "    \n",
    "#     hap += num\n",
=======
    "    nn.append(num)\n",
    "print(nn)\n",
    "\n",
    "hap = 0\n",
    "\n",
    "for i in range(10):\n",
    "    num = nn[i]\n",
    "    hap += num\n",
>>>>>>> f03759c (Jupyter file to python file)
    "print(hap)"
   ]
  },
  {
   "cell_type": "code",
   "execution_count": null,
<<<<<<< HEAD
   "id": "fc36fa79",
=======
   "id": "47b4ab28",
>>>>>>> f03759c (Jupyter file to python file)
   "metadata": {},
   "outputs": [],
   "source": [
    "ss = 'python'\n",
    "print(ss[0])\n",
    "print(ss[1:2])\n",
    "print(ss[-3:-1])\n",
    "print(ss[3:])"
   ]
  },
  {
   "cell_type": "code",
   "execution_count": null,
<<<<<<< HEAD
   "id": "19ecfc23",
=======
   "id": "c3c7671f",
>>>>>>> f03759c (Jupyter file to python file)
   "metadata": {},
   "outputs": [],
   "source": [
    "ss.title()\n",
    "ss.swapcase()"
   ]
  },
  {
   "cell_type": "code",
   "execution_count": null,
<<<<<<< HEAD
   "id": "3a313443",
=======
   "id": "a38ffd85",
>>>>>>> f03759c (Jupyter file to python file)
   "metadata": {},
   "outputs": [],
   "source": [
    "ss = \"Python 파이썬\"\n",
    "\n",
    "ss.replace('파이썬', 'Python')"
   ]
  },
  {
   "cell_type": "code",
   "execution_count": null,
<<<<<<< HEAD
   "id": "390b30a6",
=======
   "id": "4a6e57d7",
>>>>>>> f03759c (Jupyter file to python file)
   "metadata": {},
   "outputs": [],
   "source": [
    "def f1():\n",
    "    print(var)\n",
    "\n",
    "def f2():\n",
    "    var = 10\n",
    "    print(var)\n",
    "\n",
    "var = 100\n",
    "\n",
    "f1()\n",
    "f2()"
   ]
  },
  {
   "cell_type": "code",
<<<<<<< HEAD
   "execution_count": 13,
   "id": "518604c0",
   "metadata": {},
   "outputs": [
    {
     "ename": "TypeError",
     "evalue": "'int' object is not callable",
     "output_type": "error",
     "traceback": [
      "\u001b[0;31m---------------------------------------------------------------------------\u001b[0m",
      "\u001b[0;31mTypeError\u001b[0m                                 Traceback (most recent call last)",
      "Input \u001b[0;32mIn [13]\u001b[0m, in \u001b[0;36m<cell line: 13>\u001b[0;34m()\u001b[0m\n\u001b[1;32m      6\u001b[0m         n \u001b[38;5;241m+\u001b[39m\u001b[38;5;241m=\u001b[39m\u001b[38;5;241m1\u001b[39m  \n\u001b[1;32m      8\u001b[0m \u001b[38;5;66;03m#     if num > 1:\u001b[39;00m\n\u001b[1;32m      9\u001b[0m \u001b[38;5;66;03m#         return num +addNumber(num-1)\u001b[39;00m\n\u001b[1;32m     10\u001b[0m \u001b[38;5;66;03m#     else:\u001b[39;00m\n\u001b[1;32m     11\u001b[0m \u001b[38;5;66;03m#         return 1\u001b[39;00m\n\u001b[0;32m---> 13\u001b[0m \u001b[43mplus_100\u001b[49m\u001b[43m(\u001b[49m\u001b[43m)\u001b[49m\n",
      "Input \u001b[0;32mIn [13]\u001b[0m, in \u001b[0;36mplus_100\u001b[0;34m()\u001b[0m\n\u001b[1;32m      3\u001b[0m n \u001b[38;5;241m=\u001b[39m \u001b[38;5;241m1\u001b[39m\n\u001b[1;32m      4\u001b[0m \u001b[38;5;28;01mfor\u001b[39;00m n \u001b[38;5;129;01min\u001b[39;00m \u001b[38;5;28mrange\u001b[39m(\u001b[38;5;241m100\u001b[39m):\n\u001b[0;32m----> 5\u001b[0m     n \u001b[38;5;241m+\u001b[39m \u001b[43maddNumber\u001b[49m\u001b[43m(\u001b[49m\u001b[43mn\u001b[49m\u001b[38;5;241;43m-\u001b[39;49m\u001b[38;5;241;43m1\u001b[39;49m\u001b[43m)\u001b[49m\n\u001b[1;32m      6\u001b[0m     n \u001b[38;5;241m+\u001b[39m\u001b[38;5;241m=\u001b[39m\u001b[38;5;241m1\u001b[39m\n",
      "\u001b[0;31mTypeError\u001b[0m: 'int' object is not callable"
     ]
    }
   ],
   "source": [
    "def plus_100():\n",
    "    addNumber = 0\n",
    "    n = 1\n",
    "    for n in range(100):\n",
    "        n + addNumber(n-1)\n",
    "        n +=1  \n",
    "    \n",
    "#     if num > 1:\n",
    "#         return num +addNumber(num-1)\n",
    "#     else:\n",
    "#         return 1\n",
    "    \n",
    "plus_100()"
=======
   "execution_count": 34,
   "id": "28bbc127",
   "metadata": {},
   "outputs": [
    {
     "data": {
      "text/plain": [
       "5050"
      ]
     },
     "execution_count": 34,
     "metadata": {},
     "output_type": "execute_result"
    }
   ],
   "source": [
    "def addNumber(num):\n",
    "    \n",
    "    if num <=1:\n",
    "        return 1\n",
    "    else:\n",
    "        return num + addNumber(num-1)\n",
    "    \n",
    "    \n",
    "addNumber(100)"
   ]
  },
  {
   "cell_type": "code",
   "execution_count": 35,
   "id": "fe0a10d5",
   "metadata": {},
   "outputs": [
    {
     "data": {
      "text/plain": [
       "5050"
      ]
     },
     "execution_count": 35,
     "metadata": {},
     "output_type": "execute_result"
    }
   ],
   "source": [
    "def plus_100(n):\n",
    "    \n",
    "    if n > 1:\n",
    "        return n + plus_100(n-1)\n",
    "    else:\n",
    "        return 1\n",
    "    \n",
    "plus_100(100)"
>>>>>>> f03759c (Jupyter file to python file)
   ]
  },
  {
   "cell_type": "code",
   "execution_count": null,
<<<<<<< HEAD
   "id": "012c4bf0",
=======
   "id": "9759c731",
>>>>>>> f03759c (Jupyter file to python file)
   "metadata": {},
   "outputs": [],
   "source": []
  }
 ],
 "metadata": {
  "kernelspec": {
   "display_name": "Python 3 (ipykernel)",
   "language": "python",
   "name": "python3"
  },
  "language_info": {
   "codemirror_mode": {
    "name": "ipython",
    "version": 3
   },
   "file_extension": ".py",
   "mimetype": "text/x-python",
   "name": "python",
   "nbconvert_exporter": "python",
   "pygments_lexer": "ipython3",
   "version": "3.9.12"
  }
 },
 "nbformat": 4,
 "nbformat_minor": 5
}
