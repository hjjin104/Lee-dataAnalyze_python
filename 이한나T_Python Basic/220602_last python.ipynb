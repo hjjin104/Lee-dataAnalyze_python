{
 "cells": [
  {
   "cell_type": "code",
   "execution_count": 9,
   "id": "de20207b",
   "metadata": {},
   "outputs": [
    {
     "name": "stdout",
     "output_type": "stream",
     "text": [
      "('d', 'o', 'g', ' ', 'c', 'a', 't', ' ', 'b', 'i', 'r', 'd')\n",
      "('dog', 'cat', 'bird')\n"
     ]
    }
   ],
   "source": [
    "a = tuple('dog cat bird')\n",
    "a_ = ('dog','cat','bird')\n",
    "\n",
    "print(a)\n",
    "print(a_)"
   ]
  },
  {
   "cell_type": "code",
   "execution_count": 5,
   "id": "008432be",
   "metadata": {},
   "outputs": [
    {
     "data": {
      "text/plain": [
       "tuple"
      ]
     },
     "execution_count": 5,
     "metadata": {},
     "output_type": "execute_result"
    }
   ],
   "source": [
    "type(a)"
   ]
  },
  {
   "cell_type": "code",
   "execution_count": 6,
   "id": "d672953d",
   "metadata": {},
   "outputs": [
    {
     "name": "stdout",
     "output_type": "stream",
     "text": [
      "type is tuple\n"
     ]
    }
   ],
   "source": [
    "if type(a) == tuple:\n",
    "    print(\"type is tuple\")\n",
    "else:\n",
    "    print(\"Not tuple\")"
   ]
  },
  {
   "cell_type": "code",
   "execution_count": 11,
   "id": "33846e09",
   "metadata": {},
   "outputs": [
    {
     "name": "stdout",
     "output_type": "stream",
     "text": [
      "(10, 20, 'A', 'B')\n"
     ]
    }
   ],
   "source": [
    "a = (10, 20)\n",
    "b = ('A', 'B')\n",
    "c = a+b\n",
    "print(c)"
   ]
  },
  {
   "cell_type": "code",
   "execution_count": 12,
   "id": "60a91065",
   "metadata": {},
   "outputs": [
    {
     "ename": "TypeError",
     "evalue": "'tuple' object does not support item assignment",
     "output_type": "error",
     "traceback": [
      "\u001b[0;31m---------------------------------------------------------------------------\u001b[0m",
      "\u001b[0;31mTypeError\u001b[0m                                 Traceback (most recent call last)",
      "Input \u001b[0;32mIn [12]\u001b[0m, in \u001b[0;36m<cell line: 1>\u001b[0;34m()\u001b[0m\n\u001b[0;32m----> 1\u001b[0m a[\u001b[38;5;241m1\u001b[39m] \u001b[38;5;241m=\u001b[39m \u001b[38;5;241m30\u001b[39m\n",
      "\u001b[0;31mTypeError\u001b[0m: 'tuple' object does not support item assignment"
     ]
    }
   ],
   "source": [
    "a[1] = 30"
   ]
  },
  {
   "cell_type": "code",
   "execution_count": 13,
   "id": "d5065f3c",
   "metadata": {},
   "outputs": [],
   "source": [
    "x = [1,2,3]\n",
    "y = [5,6,7]\n",
    "z = x + y"
   ]
  },
  {
   "cell_type": "code",
   "execution_count": 14,
   "id": "c7284fe5",
   "metadata": {},
   "outputs": [
    {
     "name": "stdout",
     "output_type": "stream",
     "text": [
      "[1, 2, 3]\n",
      "[5, 6, 7]\n",
      "[1, 2, 3, 5, 6, 7]\n"
     ]
    }
   ],
   "source": [
    "print(x)\n",
    "print(y)\n",
    "print(z)"
   ]
  },
  {
   "cell_type": "code",
   "execution_count": 16,
   "id": "ea8f84f5",
   "metadata": {},
   "outputs": [
    {
     "name": "stdout",
     "output_type": "stream",
     "text": [
      "[1, 2, 3]\n",
      "[1, 2, 3]\n"
     ]
    }
   ],
   "source": [
    "x = [1,2,3]\n",
    "y = ['a','b','c']\n",
    "\n",
    "#1 \n",
    "z = x\n",
    "print(x)\n",
    "print(z)"
   ]
  },
  {
   "cell_type": "code",
   "execution_count": 17,
   "id": "c70d9d9c",
   "metadata": {},
   "outputs": [
    {
     "name": "stdout",
     "output_type": "stream",
     "text": [
      "[1, 2, 3, 'Test']\n",
      "[1, 2, 3, 'Test']\n"
     ]
    }
   ],
   "source": [
    "z.append(\"Test\")\n",
    "\n",
    "print(x)\n",
    "print(z)"
   ]
  },
  {
   "cell_type": "code",
   "execution_count": 19,
   "id": "8ad76eda",
   "metadata": {},
   "outputs": [
    {
     "name": "stdout",
     "output_type": "stream",
     "text": [
      "[1, 2, 3, 'Test', '!!!!']\n",
      "[1, 2, 3, 'Test', '!!!!', '!!!!']\n"
     ]
    }
   ],
   "source": [
    "import copy\n",
    "\n",
    "a = copy.deepcopy(x)\n",
    "\n",
    "x.append(\"!!!!\")\n",
    "\n",
    "print(a)\n",
    "print(x)"
   ]
  },
  {
   "cell_type": "code",
   "execution_count": 21,
   "id": "f077e9e4",
   "metadata": {},
   "outputs": [
    {
     "name": "stdout",
     "output_type": "stream",
     "text": [
      "{1, 5, 7, 9, 11}\n"
     ]
    }
   ],
   "source": [
    "li = [1,5,11,9,7,1]\n",
    "setb = set(li)\n",
    "print(setb)"
   ]
  },
  {
   "cell_type": "code",
   "execution_count": 26,
   "id": "6407831f",
   "metadata": {},
   "outputs": [
    {
     "data": {
      "text/plain": [
       "[1, 5, 7, 9, 11]"
      ]
     },
     "execution_count": 26,
     "metadata": {},
     "output_type": "execute_result"
    }
   ],
   "source": [
    "setb = list(setb)\n",
    "setb.sort()\n",
    "setb"
   ]
  },
  {
   "cell_type": "code",
   "execution_count": 41,
   "id": "f7304627",
   "metadata": {},
   "outputs": [
    {
     "name": "stdout",
     "output_type": "stream",
     "text": [
      "마카롱\n",
      "15\n"
     ]
    }
   ],
   "source": [
    "d = dict(초콜릿 = 20, 마카롱 = 15, 쿠키 =10)\n",
    "d\n",
    "x = input()\n",
    "#d[x]\n",
    "if x in d.keys():\n",
    "    print(d.get(x))\n",
    "else: \n",
    "    print(\"NO\")"
   ]
  },
  {
   "cell_type": "code",
   "execution_count": 47,
   "id": "f17aa6a4",
   "metadata": {},
   "outputs": [
    {
     "name": "stdout",
     "output_type": "stream",
     "text": [
      "초콜릿\n"
     ]
    }
   ],
   "source": [
    "d = dict(초콜릿 = 20, 마카롱 = 15, 쿠키 =10)\n",
    "x = input()\n",
    "\n",
    "d[x] = d[x]+1 #d.get(x) + 1 => 오류 안남"
   ]
  },
  {
   "cell_type": "code",
   "execution_count": 28,
   "id": "4aeddba6",
   "metadata": {},
   "outputs": [
    {
     "data": {
      "text/plain": [
       "dict_keys(['초콜릿', '마카롱', '쿠키'])"
      ]
     },
     "execution_count": 28,
     "metadata": {},
     "output_type": "execute_result"
    }
   ],
   "source": [
    "d.keys()"
   ]
  },
  {
   "cell_type": "code",
   "execution_count": 29,
   "id": "d193498f",
   "metadata": {},
   "outputs": [
    {
     "data": {
      "text/plain": [
       "dict_values([20, 15, 10])"
      ]
     },
     "execution_count": 29,
     "metadata": {},
     "output_type": "execute_result"
    }
   ],
   "source": [
    "d.values()"
   ]
  },
  {
   "cell_type": "code",
   "execution_count": 30,
   "id": "2b069ed0",
   "metadata": {},
   "outputs": [
    {
     "data": {
      "text/plain": [
       "dict_items([('초콜릿', 20), ('마카롱', 15), ('쿠키', 10)])"
      ]
     },
     "execution_count": 30,
     "metadata": {},
     "output_type": "execute_result"
    }
   ],
   "source": [
    "d.items()"
   ]
  },
  {
   "cell_type": "code",
   "execution_count": 31,
   "id": "bcd33fd8",
   "metadata": {},
   "outputs": [
    {
     "name": "stdout",
     "output_type": "stream",
     "text": [
      "초콜릿\n",
      "마카롱\n",
      "쿠키\n"
     ]
    }
   ],
   "source": [
    "for x in d.keys():\n",
    "    print(x)"
   ]
  },
  {
   "cell_type": "code",
   "execution_count": 32,
   "id": "9fca412f",
   "metadata": {},
   "outputs": [
    {
     "name": "stdout",
     "output_type": "stream",
     "text": [
      "20\n",
      "15\n",
      "10\n"
     ]
    }
   ],
   "source": [
    "for x in d.values():\n",
    "    print(x)"
   ]
  },
  {
   "cell_type": "code",
   "execution_count": 34,
   "id": "02ae9b51",
   "metadata": {},
   "outputs": [
    {
     "name": "stdout",
     "output_type": "stream",
     "text": [
      "1\n",
      "2\n",
      "3\n"
     ]
    }
   ],
   "source": [
    "a = [1,2,3]\n",
    "for x in range(len(a)):\n",
    "    print(a[x])"
   ]
  },
  {
   "cell_type": "code",
   "execution_count": 36,
   "id": "392272b5",
   "metadata": {},
   "outputs": [
    {
     "name": "stdout",
     "output_type": "stream",
     "text": [
      "*\n",
      "**\n",
      "***\n",
      "****\n",
      "*****\n"
     ]
    }
   ],
   "source": [
    "a = [1,2,3,4,5]\n",
    "for x in a:\n",
    "    print(\"*\"*x)"
   ]
  },
  {
   "cell_type": "markdown",
   "id": "46af3be6",
   "metadata": {},
   "source": [
    "### Set "
   ]
  },
  {
   "cell_type": "code",
   "execution_count": 52,
   "id": "0204d50b",
   "metadata": {},
   "outputs": [
    {
     "name": "stdout",
     "output_type": "stream",
     "text": [
      "['한나', '두나', '세나', '네나']\n"
     ]
    }
   ],
   "source": [
    "word = [\"한나\",\"두나\",\"두나\",\"세나\",\"한나\",\"두나\",\"네나\",\"두나\"]\n",
    "w = []\n",
    "\n",
    "for x in word:\n",
    "    if x not in w:\n",
    "        w.append(x)\n",
    "print(w)"
   ]
  },
  {
   "cell_type": "code",
   "execution_count": 83,
   "id": "9e0239b4",
   "metadata": {},
   "outputs": [
    {
     "name": "stdout",
     "output_type": "stream",
     "text": [
      "[2, 4, 1, 1]\n"
     ]
    }
   ],
   "source": [
    "word = [\"한나\",\"두나\",\"두나\",\"세나\",\"한나\",\"두나\",\"네나\",\"두나\"]\n",
    "w = []\n",
    "wCount = [0,0,0,0]\n",
    "\n",
    "for x in word:\n",
    "    if x not in w:\n",
    "        w.append(x)\n",
    "        \n",
    "for x in word:\n",
    "    z = w.index(x)\n",
    "    wCount[z] = wCount[z]+1\n",
    "        \n",
    "print(wCount)"
   ]
  },
  {
   "cell_type": "code",
   "execution_count": 84,
   "id": "762e819d",
   "metadata": {},
   "outputs": [
    {
     "name": "stdout",
     "output_type": "stream",
     "text": [
      "한나 2 개\n",
      "두나 4 개\n",
      "세나 1 개\n",
      "네나 1 개\n"
     ]
    }
   ],
   "source": [
    "for x in range(len(w)):\n",
    "    print(w[x], wCount[x],\"개\")"
   ]
  },
  {
   "cell_type": "code",
   "execution_count": 88,
   "id": "ed2bfa7f",
   "metadata": {},
   "outputs": [
    {
     "name": "stdout",
     "output_type": "stream",
     "text": [
      "{'한나': 2, '두나': 4, '세나': 1, '네나': 1}\n",
      "dict_items([('한나', 2), ('두나', 4), ('세나', 1), ('네나', 1)])\n"
     ]
    }
   ],
   "source": [
    "word = [\"한나\",\"두나\",\"두나\",\"세나\",\"한나\",\"두나\",\"네나\",\"두나\"]\n",
    "d = dict() #d = {'한나':0}\n",
    "\n",
    "for x in word:\n",
    "    d[x] = d.get(x,0) +1\n",
    "print(d)\n",
    "print(d.items())"
   ]
  },
  {
   "cell_type": "code",
   "execution_count": 91,
   "id": "1f3464c0",
   "metadata": {},
   "outputs": [
    {
     "name": "stdout",
     "output_type": "stream",
     "text": [
      "show 함수 실행\n",
      "None\n"
     ]
    }
   ],
   "source": [
    "def show():\n",
    "    print(\"show 함수 실행\")\n",
    "#     return 12+34\n",
    "\n",
    "a = show()\n",
    "print(a)"
   ]
  },
  {
   "cell_type": "code",
   "execution_count": 97,
   "id": "ad1134a8",
   "metadata": {},
   "outputs": [],
   "source": [
    "def hello(count):\n",
    "    \n",
    "    if count == 0:\n",
    "        return \"Number is 0\"\n",
    "    \n",
    "    print(\"Start \", count)\n",
    "    count = count - 1\n",
    "    \n",
    "    hello(count)\n",
    "    print(\"End \",count)\n",
    "    \n"
   ]
  },
  {
   "cell_type": "code",
   "execution_count": 98,
   "id": "218bd0d3",
   "metadata": {},
   "outputs": [
    {
     "name": "stdout",
     "output_type": "stream",
     "text": [
      "Start  3\n",
      "Start  2\n",
      "Start  1\n",
      "End  0\n",
      "End  1\n",
      "End  2\n"
     ]
    }
   ],
   "source": [
    "hello(3)"
   ]
  },
  {
   "cell_type": "code",
   "execution_count": 99,
   "id": "1c7b608e",
   "metadata": {},
   "outputs": [],
   "source": [
    "def facto(n):\n",
    "    if n == 1:\n",
    "        return 1\n",
    "    \n",
    "    return n*facto(n-1)"
   ]
  },
  {
   "cell_type": "code",
   "execution_count": 100,
   "id": "3b95dfe8",
   "metadata": {},
   "outputs": [
    {
     "data": {
      "text/plain": [
       "6"
      ]
     },
     "execution_count": 100,
     "metadata": {},
     "output_type": "execute_result"
    }
   ],
   "source": [
    "facto(3)"
   ]
  },
  {
   "cell_type": "code",
   "execution_count": null,
   "id": "5d9e9edf",
   "metadata": {},
   "outputs": [],
   "source": [
    "]"
   ]
  }
 ],
 "metadata": {
  "kernelspec": {
   "display_name": "Python 3 (ipykernel)",
   "language": "python",
   "name": "python3"
  },
  "language_info": {
   "codemirror_mode": {
    "name": "ipython",
    "version": 3
   },
   "file_extension": ".py",
   "mimetype": "text/x-python",
   "name": "python",
   "nbconvert_exporter": "python",
   "pygments_lexer": "ipython3",
   "version": "3.9.12"
  }
 },
 "nbformat": 4,
 "nbformat_minor": 5
}
