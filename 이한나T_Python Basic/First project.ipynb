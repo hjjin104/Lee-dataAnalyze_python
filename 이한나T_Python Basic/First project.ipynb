{
 "cells": [
  {
   "cell_type": "code",
   "execution_count": 9,
   "id": "8c265b3e",
   "metadata": {},
   "outputs": [],
   "source": [
    "age = 28"
   ]
  },
  {
   "cell_type": "code",
   "execution_count": 10,
   "id": "1a79b7fc",
   "metadata": {},
   "outputs": [],
   "source": [
    "name = \"진혜주\""
   ]
  },
  {
   "cell_type": "code",
   "execution_count": 11,
   "id": "67348f27",
   "metadata": {},
   "outputs": [
    {
     "name": "stdout",
     "output_type": "stream",
     "text": [
      "진혜주\n"
     ]
    }
   ],
   "source": [
    "print(name)"
   ]
  },
  {
   "cell_type": "code",
   "execution_count": 12,
   "id": "92ad2082",
   "metadata": {},
   "outputs": [
    {
     "name": "stdout",
     "output_type": "stream",
     "text": [
      "28\n"
     ]
    }
   ],
   "source": [
    "print(age)"
   ]
  },
  {
   "cell_type": "code",
   "execution_count": 13,
   "id": "21eb095a",
   "metadata": {},
   "outputs": [],
   "source": [
    "x, y, z = [3,1,2]"
   ]
  },
  {
   "cell_type": "code",
   "execution_count": 14,
   "id": "fabd3c44",
   "metadata": {},
   "outputs": [
    {
     "name": "stdout",
     "output_type": "stream",
     "text": [
      "3 1 2\n"
     ]
    }
   ],
   "source": [
    "print(x,y,z)"
   ]
  },
  {
   "cell_type": "code",
   "execution_count": null,
   "id": "b95a7f21",
   "metadata": {},
   "outputs": [],
   "source": []
  }
 ],
 "metadata": {
  "kernelspec": {
   "display_name": "Python 3 (ipykernel)",
   "language": "python",
   "name": "python3"
  },
  "language_info": {
   "codemirror_mode": {
    "name": "ipython",
    "version": 3
   },
   "file_extension": ".py",
   "mimetype": "text/x-python",
   "name": "python",
   "nbconvert_exporter": "python",
   "pygments_lexer": "ipython3",
   "version": "3.9.12"
  }
 },
 "nbformat": 4,
 "nbformat_minor": 5
}
